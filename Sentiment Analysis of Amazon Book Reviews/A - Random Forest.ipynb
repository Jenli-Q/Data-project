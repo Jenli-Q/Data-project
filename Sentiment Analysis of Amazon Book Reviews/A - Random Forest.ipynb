{
  "nbformat": 4,
  "nbformat_minor": 0,
  "metadata": {
    "colab": {
      "name": "Qbus6850_ProjectCode_Group001_TaskA.ipynb",
      "provenance": [],
      "collapsed_sections": [],
      "toc_visible": true
    },
    "kernelspec": {
      "name": "python3",
      "display_name": "Python 3"
    },
    "language_info": {
      "name": "python"
    },
    "accelerator": "GPU"
  },
  "cells": [
    {
      "cell_type": "code",
      "execution_count": null,
      "metadata": {
        "colab": {
          "base_uri": "https://localhost:8080/"
        },
        "id": "LDrbyOg70pyE",
        "outputId": "0f5f7c96-657c-429c-de73-f09b91500889"
      },
      "outputs": [
        {
          "output_type": "stream",
          "name": "stdout",
          "text": [
            "[nltk_data] Downloading package stopwords to /root/nltk_data...\n",
            "[nltk_data]   Package stopwords is already up-to-date!\n",
            "[nltk_data] Downloading package punkt to /root/nltk_data...\n",
            "[nltk_data]   Package punkt is already up-to-date!\n",
            "[nltk_data] Downloading package wordnet to /root/nltk_data...\n",
            "[nltk_data]   Package wordnet is already up-to-date!\n"
          ]
        }
      ],
      "source": [
        "import warnings\n",
        "warnings.filterwarnings(\"ignore\")\n",
        "import numpy as np\n",
        "import pandas as pd\n",
        "import nltk\n",
        "import re\n",
        "import matplotlib.pyplot as plt\n",
        "import html\n",
        "import string\n",
        "import torch\n",
        "from torch import nn\n",
        "import torch.nn.functional as F\n",
        "from torch import utils\n",
        "nltk.download(\"stopwords\")\n",
        "nltk.download('punkt')\n",
        "nltk.download('wordnet')\n",
        "from nltk.corpus import stopwords\n",
        "from nltk import word_tokenize, pos_tag\n",
        "from nltk.stem import WordNetLemmatizer\n",
        "from nltk.probability import FreqDist\n",
        "from html.parser import HTMLParser\n",
        "from sklearn.feature_extraction.text import CountVectorizer\n",
        "from sklearn.feature_extraction.text import TfidfVectorizer\n",
        "from sklearn.model_selection import train_test_split\n",
        "from sklearn.ensemble import RandomForestClassifier\n",
        "from sklearn.ensemble import RandomForestRegressor\n",
        "from sklearn.model_selection import GridSearchCV\n",
        "from sklearn.metrics import classification_report \n",
        "from sklearn.metrics import f1_score, confusion_matrix\n",
        "from wordcloud import WordCloud\n",
        "from collections import Counter\n",
        "\n",
        "torch.manual_seed(0)\n",
        "np.random.seed(0)"
      ]
    },
    {
      "cell_type": "markdown",
      "source": [
        "# Part 1 Read in Data\n",
        "\n",
        "\n",
        "\n"
      ],
      "metadata": {
        "id": "qiE7Fjge1ESs"
      }
    },
    {
      "cell_type": "code",
      "source": [
        "train = pd.read_csv('train.csv')\n",
        "test = pd.read_csv('test.csv')"
      ],
      "metadata": {
        "id": "0VGen9cA1Vjr"
      },
      "execution_count": null,
      "outputs": []
    },
    {
      "cell_type": "code",
      "source": [
        "train.head()"
      ],
      "metadata": {
        "id": "mnUpbuYU1i3j",
        "colab": {
          "base_uri": "https://localhost:8080/",
          "height": 206
        },
        "outputId": "5e25e2f3-b579-4599-f298-b58737234761"
      },
      "execution_count": null,
      "outputs": [
        {
          "output_type": "execute_result",
          "data": {
            "text/plain": [
              "   rating                                         reviewText  \\\n",
              "0       3  Plot Storyline: 5 StarsThis novel accomplished...   \n",
              "1       3  I did not like how EL ended this one. I don't ...   \n",
              "2       5  I love how old fashioned this family is - they...   \n",
              "3       5  I loved this story - It's about two friends wh...   \n",
              "4       1  In the Dark Lands, a virus killed all possibil...   \n",
              "\n",
              "                                   summary  \n",
              "0                              3 1/4 Stars  \n",
              "1  It was going great, then just.... ended  \n",
              "2                             LOVED ALL 4!  \n",
              "3             friends make the best lovers  \n",
              "4          Blatantly sexist and homophobic  "
            ],
            "text/html": [
              "\n",
              "  <div id=\"df-a667d3b8-eec3-4c5d-8095-ecc29f88c080\">\n",
              "    <div class=\"colab-df-container\">\n",
              "      <div>\n",
              "<style scoped>\n",
              "    .dataframe tbody tr th:only-of-type {\n",
              "        vertical-align: middle;\n",
              "    }\n",
              "\n",
              "    .dataframe tbody tr th {\n",
              "        vertical-align: top;\n",
              "    }\n",
              "\n",
              "    .dataframe thead th {\n",
              "        text-align: right;\n",
              "    }\n",
              "</style>\n",
              "<table border=\"1\" class=\"dataframe\">\n",
              "  <thead>\n",
              "    <tr style=\"text-align: right;\">\n",
              "      <th></th>\n",
              "      <th>rating</th>\n",
              "      <th>reviewText</th>\n",
              "      <th>summary</th>\n",
              "    </tr>\n",
              "  </thead>\n",
              "  <tbody>\n",
              "    <tr>\n",
              "      <th>0</th>\n",
              "      <td>3</td>\n",
              "      <td>Plot Storyline: 5 StarsThis novel accomplished...</td>\n",
              "      <td>3 1/4 Stars</td>\n",
              "    </tr>\n",
              "    <tr>\n",
              "      <th>1</th>\n",
              "      <td>3</td>\n",
              "      <td>I did not like how EL ended this one. I don't ...</td>\n",
              "      <td>It was going great, then just.... ended</td>\n",
              "    </tr>\n",
              "    <tr>\n",
              "      <th>2</th>\n",
              "      <td>5</td>\n",
              "      <td>I love how old fashioned this family is - they...</td>\n",
              "      <td>LOVED ALL 4!</td>\n",
              "    </tr>\n",
              "    <tr>\n",
              "      <th>3</th>\n",
              "      <td>5</td>\n",
              "      <td>I loved this story - It's about two friends wh...</td>\n",
              "      <td>friends make the best lovers</td>\n",
              "    </tr>\n",
              "    <tr>\n",
              "      <th>4</th>\n",
              "      <td>1</td>\n",
              "      <td>In the Dark Lands, a virus killed all possibil...</td>\n",
              "      <td>Blatantly sexist and homophobic</td>\n",
              "    </tr>\n",
              "  </tbody>\n",
              "</table>\n",
              "</div>\n",
              "      <button class=\"colab-df-convert\" onclick=\"convertToInteractive('df-a667d3b8-eec3-4c5d-8095-ecc29f88c080')\"\n",
              "              title=\"Convert this dataframe to an interactive table.\"\n",
              "              style=\"display:none;\">\n",
              "        \n",
              "  <svg xmlns=\"http://www.w3.org/2000/svg\" height=\"24px\"viewBox=\"0 0 24 24\"\n",
              "       width=\"24px\">\n",
              "    <path d=\"M0 0h24v24H0V0z\" fill=\"none\"/>\n",
              "    <path d=\"M18.56 5.44l.94 2.06.94-2.06 2.06-.94-2.06-.94-.94-2.06-.94 2.06-2.06.94zm-11 1L8.5 8.5l.94-2.06 2.06-.94-2.06-.94L8.5 2.5l-.94 2.06-2.06.94zm10 10l.94 2.06.94-2.06 2.06-.94-2.06-.94-.94-2.06-.94 2.06-2.06.94z\"/><path d=\"M17.41 7.96l-1.37-1.37c-.4-.4-.92-.59-1.43-.59-.52 0-1.04.2-1.43.59L10.3 9.45l-7.72 7.72c-.78.78-.78 2.05 0 2.83L4 21.41c.39.39.9.59 1.41.59.51 0 1.02-.2 1.41-.59l7.78-7.78 2.81-2.81c.8-.78.8-2.07 0-2.86zM5.41 20L4 18.59l7.72-7.72 1.47 1.35L5.41 20z\"/>\n",
              "  </svg>\n",
              "      </button>\n",
              "      \n",
              "  <style>\n",
              "    .colab-df-container {\n",
              "      display:flex;\n",
              "      flex-wrap:wrap;\n",
              "      gap: 12px;\n",
              "    }\n",
              "\n",
              "    .colab-df-convert {\n",
              "      background-color: #E8F0FE;\n",
              "      border: none;\n",
              "      border-radius: 50%;\n",
              "      cursor: pointer;\n",
              "      display: none;\n",
              "      fill: #1967D2;\n",
              "      height: 32px;\n",
              "      padding: 0 0 0 0;\n",
              "      width: 32px;\n",
              "    }\n",
              "\n",
              "    .colab-df-convert:hover {\n",
              "      background-color: #E2EBFA;\n",
              "      box-shadow: 0px 1px 2px rgba(60, 64, 67, 0.3), 0px 1px 3px 1px rgba(60, 64, 67, 0.15);\n",
              "      fill: #174EA6;\n",
              "    }\n",
              "\n",
              "    [theme=dark] .colab-df-convert {\n",
              "      background-color: #3B4455;\n",
              "      fill: #D2E3FC;\n",
              "    }\n",
              "\n",
              "    [theme=dark] .colab-df-convert:hover {\n",
              "      background-color: #434B5C;\n",
              "      box-shadow: 0px 1px 3px 1px rgba(0, 0, 0, 0.15);\n",
              "      filter: drop-shadow(0px 1px 2px rgba(0, 0, 0, 0.3));\n",
              "      fill: #FFFFFF;\n",
              "    }\n",
              "  </style>\n",
              "\n",
              "      <script>\n",
              "        const buttonEl =\n",
              "          document.querySelector('#df-a667d3b8-eec3-4c5d-8095-ecc29f88c080 button.colab-df-convert');\n",
              "        buttonEl.style.display =\n",
              "          google.colab.kernel.accessAllowed ? 'block' : 'none';\n",
              "\n",
              "        async function convertToInteractive(key) {\n",
              "          const element = document.querySelector('#df-a667d3b8-eec3-4c5d-8095-ecc29f88c080');\n",
              "          const dataTable =\n",
              "            await google.colab.kernel.invokeFunction('convertToInteractive',\n",
              "                                                     [key], {});\n",
              "          if (!dataTable) return;\n",
              "\n",
              "          const docLinkHtml = 'Like what you see? Visit the ' +\n",
              "            '<a target=\"_blank\" href=https://colab.research.google.com/notebooks/data_table.ipynb>data table notebook</a>'\n",
              "            + ' to learn more about interactive tables.';\n",
              "          element.innerHTML = '';\n",
              "          dataTable['output_type'] = 'display_data';\n",
              "          await google.colab.output.renderOutput(dataTable, element);\n",
              "          const docLink = document.createElement('div');\n",
              "          docLink.innerHTML = docLinkHtml;\n",
              "          element.appendChild(docLink);\n",
              "        }\n",
              "      </script>\n",
              "    </div>\n",
              "  </div>\n",
              "  "
            ]
          },
          "metadata": {},
          "execution_count": 3
        }
      ]
    },
    {
      "cell_type": "code",
      "source": [
        "test.head(6)"
      ],
      "metadata": {
        "id": "1Hp1qwDvtgyO",
        "colab": {
          "base_uri": "https://localhost:8080/",
          "height": 237
        },
        "outputId": "36ceea3f-a048-4fd7-e3a6-1df14fe46c9e"
      },
      "execution_count": null,
      "outputs": [
        {
          "output_type": "execute_result",
          "data": {
            "text/plain": [
              "   Id                                         reviewText              summary\n",
              "0   0  So much of this is so dated, it's not worth re...                Dated\n",
              "1   1  I liked this book overall, though I spent most...               Review\n",
              "2   2  Since other reviewers gave info about the plot...  Quick and easy read\n",
              "3   3  I love, love, love Kiera and Gabriel's story! ...                 WOW!\n",
              "4   4  This was a good twist, on a already great stor...      OMG... So good!\n",
              "5   5  These stories put into perspectivewhat most do...    Truly remarkable."
            ],
            "text/html": [
              "\n",
              "  <div id=\"df-0a45abc2-2e69-4a43-ab52-5992e5c9214a\">\n",
              "    <div class=\"colab-df-container\">\n",
              "      <div>\n",
              "<style scoped>\n",
              "    .dataframe tbody tr th:only-of-type {\n",
              "        vertical-align: middle;\n",
              "    }\n",
              "\n",
              "    .dataframe tbody tr th {\n",
              "        vertical-align: top;\n",
              "    }\n",
              "\n",
              "    .dataframe thead th {\n",
              "        text-align: right;\n",
              "    }\n",
              "</style>\n",
              "<table border=\"1\" class=\"dataframe\">\n",
              "  <thead>\n",
              "    <tr style=\"text-align: right;\">\n",
              "      <th></th>\n",
              "      <th>Id</th>\n",
              "      <th>reviewText</th>\n",
              "      <th>summary</th>\n",
              "    </tr>\n",
              "  </thead>\n",
              "  <tbody>\n",
              "    <tr>\n",
              "      <th>0</th>\n",
              "      <td>0</td>\n",
              "      <td>So much of this is so dated, it's not worth re...</td>\n",
              "      <td>Dated</td>\n",
              "    </tr>\n",
              "    <tr>\n",
              "      <th>1</th>\n",
              "      <td>1</td>\n",
              "      <td>I liked this book overall, though I spent most...</td>\n",
              "      <td>Review</td>\n",
              "    </tr>\n",
              "    <tr>\n",
              "      <th>2</th>\n",
              "      <td>2</td>\n",
              "      <td>Since other reviewers gave info about the plot...</td>\n",
              "      <td>Quick and easy read</td>\n",
              "    </tr>\n",
              "    <tr>\n",
              "      <th>3</th>\n",
              "      <td>3</td>\n",
              "      <td>I love, love, love Kiera and Gabriel's story! ...</td>\n",
              "      <td>WOW!</td>\n",
              "    </tr>\n",
              "    <tr>\n",
              "      <th>4</th>\n",
              "      <td>4</td>\n",
              "      <td>This was a good twist, on a already great stor...</td>\n",
              "      <td>OMG... So good!</td>\n",
              "    </tr>\n",
              "    <tr>\n",
              "      <th>5</th>\n",
              "      <td>5</td>\n",
              "      <td>These stories put into perspectivewhat most do...</td>\n",
              "      <td>Truly remarkable.</td>\n",
              "    </tr>\n",
              "  </tbody>\n",
              "</table>\n",
              "</div>\n",
              "      <button class=\"colab-df-convert\" onclick=\"convertToInteractive('df-0a45abc2-2e69-4a43-ab52-5992e5c9214a')\"\n",
              "              title=\"Convert this dataframe to an interactive table.\"\n",
              "              style=\"display:none;\">\n",
              "        \n",
              "  <svg xmlns=\"http://www.w3.org/2000/svg\" height=\"24px\"viewBox=\"0 0 24 24\"\n",
              "       width=\"24px\">\n",
              "    <path d=\"M0 0h24v24H0V0z\" fill=\"none\"/>\n",
              "    <path d=\"M18.56 5.44l.94 2.06.94-2.06 2.06-.94-2.06-.94-.94-2.06-.94 2.06-2.06.94zm-11 1L8.5 8.5l.94-2.06 2.06-.94-2.06-.94L8.5 2.5l-.94 2.06-2.06.94zm10 10l.94 2.06.94-2.06 2.06-.94-2.06-.94-.94-2.06-.94 2.06-2.06.94z\"/><path d=\"M17.41 7.96l-1.37-1.37c-.4-.4-.92-.59-1.43-.59-.52 0-1.04.2-1.43.59L10.3 9.45l-7.72 7.72c-.78.78-.78 2.05 0 2.83L4 21.41c.39.39.9.59 1.41.59.51 0 1.02-.2 1.41-.59l7.78-7.78 2.81-2.81c.8-.78.8-2.07 0-2.86zM5.41 20L4 18.59l7.72-7.72 1.47 1.35L5.41 20z\"/>\n",
              "  </svg>\n",
              "      </button>\n",
              "      \n",
              "  <style>\n",
              "    .colab-df-container {\n",
              "      display:flex;\n",
              "      flex-wrap:wrap;\n",
              "      gap: 12px;\n",
              "    }\n",
              "\n",
              "    .colab-df-convert {\n",
              "      background-color: #E8F0FE;\n",
              "      border: none;\n",
              "      border-radius: 50%;\n",
              "      cursor: pointer;\n",
              "      display: none;\n",
              "      fill: #1967D2;\n",
              "      height: 32px;\n",
              "      padding: 0 0 0 0;\n",
              "      width: 32px;\n",
              "    }\n",
              "\n",
              "    .colab-df-convert:hover {\n",
              "      background-color: #E2EBFA;\n",
              "      box-shadow: 0px 1px 2px rgba(60, 64, 67, 0.3), 0px 1px 3px 1px rgba(60, 64, 67, 0.15);\n",
              "      fill: #174EA6;\n",
              "    }\n",
              "\n",
              "    [theme=dark] .colab-df-convert {\n",
              "      background-color: #3B4455;\n",
              "      fill: #D2E3FC;\n",
              "    }\n",
              "\n",
              "    [theme=dark] .colab-df-convert:hover {\n",
              "      background-color: #434B5C;\n",
              "      box-shadow: 0px 1px 3px 1px rgba(0, 0, 0, 0.15);\n",
              "      filter: drop-shadow(0px 1px 2px rgba(0, 0, 0, 0.3));\n",
              "      fill: #FFFFFF;\n",
              "    }\n",
              "  </style>\n",
              "\n",
              "      <script>\n",
              "        const buttonEl =\n",
              "          document.querySelector('#df-0a45abc2-2e69-4a43-ab52-5992e5c9214a button.colab-df-convert');\n",
              "        buttonEl.style.display =\n",
              "          google.colab.kernel.accessAllowed ? 'block' : 'none';\n",
              "\n",
              "        async function convertToInteractive(key) {\n",
              "          const element = document.querySelector('#df-0a45abc2-2e69-4a43-ab52-5992e5c9214a');\n",
              "          const dataTable =\n",
              "            await google.colab.kernel.invokeFunction('convertToInteractive',\n",
              "                                                     [key], {});\n",
              "          if (!dataTable) return;\n",
              "\n",
              "          const docLinkHtml = 'Like what you see? Visit the ' +\n",
              "            '<a target=\"_blank\" href=https://colab.research.google.com/notebooks/data_table.ipynb>data table notebook</a>'\n",
              "            + ' to learn more about interactive tables.';\n",
              "          element.innerHTML = '';\n",
              "          dataTable['output_type'] = 'display_data';\n",
              "          await google.colab.output.renderOutput(dataTable, element);\n",
              "          const docLink = document.createElement('div');\n",
              "          docLink.innerHTML = docLinkHtml;\n",
              "          element.appendChild(docLink);\n",
              "        }\n",
              "      </script>\n",
              "    </div>\n",
              "  </div>\n",
              "  "
            ]
          },
          "metadata": {},
          "execution_count": 4
        }
      ]
    },
    {
      "cell_type": "markdown",
      "source": [
        "#Part 2 Data Cleaning"
      ],
      "metadata": {
        "id": "kAyFYWXq1ojZ"
      }
    },
    {
      "cell_type": "markdown",
      "source": [
        "## 2.1 Split data into train and test"
      ],
      "metadata": {
        "id": "mTsCG3WzSbKX"
      }
    },
    {
      "cell_type": "code",
      "source": [
        "# Train test split (0.8:0.2)\n",
        "df_train, df_test = np.split(train.sample(frac=1, random_state=42), \n",
        "                                     [int(.8*len(train))])"
      ],
      "metadata": {
        "id": "blDioU-gSaFE"
      },
      "execution_count": null,
      "outputs": []
    },
    {
      "cell_type": "markdown",
      "source": [
        "## 2.2 clean up text in training data"
      ],
      "metadata": {
        "id": "QDI33-Fg_mCE"
      }
    },
    {
      "cell_type": "code",
      "source": [
        "# Combine reviewText and summary\n",
        "df_train['combine'] = df_train['summary'] + \" \" + df_train['reviewText']"
      ],
      "metadata": {
        "id": "0Si83fAzQ6Va"
      },
      "execution_count": null,
      "outputs": []
    },
    {
      "cell_type": "code",
      "source": [
        "# load stop_word\n",
        "stop_words = stopwords.words(\"english\")"
      ],
      "metadata": {
        "id": "7jWOgM7n2N0r"
      },
      "execution_count": null,
      "outputs": []
    },
    {
      "cell_type": "code",
      "source": [
        "# Remove html\n",
        "html_rem = re.compile(\"<.*?>|&([a-z0-9]+|#[0-9]{1,6}|#x[0-9a-f]{1,6});\")\n",
        "df_train['combine'] = df_train['combine'].str.replace(html_rem, \" \")\n",
        "\n",
        "# Html character codes (i.e., &...;) are replaced with an ASCII equivalent\n",
        "df_train['combine'] = html.unescape(df_train['combine'])\n",
        "\n",
        "# Remove URL using RE matching 'https' following by any non-empty characters\n",
        "df_train['combine'] = df_train['combine'].str.replace('https\\S+','') \n",
        "\n",
        "# remove thing after @\n",
        "df_train['combine'] = df_train['combine'].str.replace('@(?=\\w+)\\w+', '')\n",
        "\n",
        "# remove punctuation\n",
        "df_train['combine'] = df_train['combine'].str.translate(str.maketrans('', '', string.punctuation))\n",
        "\n",
        "# convert to lower\n",
        "df_train['combine'] = df_train['combine'].str.lower()\n",
        "\n",
        "# tonkenize \n",
        "df_train['combine'] = df_train['combine'].apply(word_tokenize)\n",
        "\n",
        "# remove stop words\n",
        "df_train['combine'] = df_train['combine'].apply(lambda x: [item for item in x if item not in stop_words])\n",
        "\n",
        "# lemmatisation\n",
        "lemmatizer = WordNetLemmatizer() \n",
        "df_train['combine'] = df_train['combine'].apply(lambda x: [lemmatizer.lemmatize(word) for word in x])\n",
        "\n",
        "\n",
        "# ready for vectorize\n",
        "df_train['text_cleaned_v'] = df_train['combine'].str.join(' ')"
      ],
      "metadata": {
        "id": "n0tNd2pa2TMl"
      },
      "execution_count": null,
      "outputs": []
    },
    {
      "cell_type": "code",
      "source": [
        "df_train[['text_cleaned_v']].head()"
      ],
      "metadata": {
        "id": "gPzXtNcZ4egB",
        "colab": {
          "base_uri": "https://localhost:8080/",
          "height": 206
        },
        "outputId": "e7df82c4-1fe7-44bd-d23b-78703320e240"
      },
      "execution_count": null,
      "outputs": [
        {
          "output_type": "execute_result",
          "data": {
            "text/plain": [
              "                                         text_cleaned_v\n",
              "7940  good found book interesting intriguging underl...\n",
              "1162  great romance good read loved storyline 2 main...\n",
              "582   grerat love story series book 4 fantastic love...\n",
              "4081  book religous rock used book information rock ...\n",
              "8412  seducing jane porter story hot right start jan..."
            ],
            "text/html": [
              "\n",
              "  <div id=\"df-6f953bdc-0c49-43e7-9ab6-7ffc25b73524\">\n",
              "    <div class=\"colab-df-container\">\n",
              "      <div>\n",
              "<style scoped>\n",
              "    .dataframe tbody tr th:only-of-type {\n",
              "        vertical-align: middle;\n",
              "    }\n",
              "\n",
              "    .dataframe tbody tr th {\n",
              "        vertical-align: top;\n",
              "    }\n",
              "\n",
              "    .dataframe thead th {\n",
              "        text-align: right;\n",
              "    }\n",
              "</style>\n",
              "<table border=\"1\" class=\"dataframe\">\n",
              "  <thead>\n",
              "    <tr style=\"text-align: right;\">\n",
              "      <th></th>\n",
              "      <th>text_cleaned_v</th>\n",
              "    </tr>\n",
              "  </thead>\n",
              "  <tbody>\n",
              "    <tr>\n",
              "      <th>7940</th>\n",
              "      <td>good found book interesting intriguging underl...</td>\n",
              "    </tr>\n",
              "    <tr>\n",
              "      <th>1162</th>\n",
              "      <td>great romance good read loved storyline 2 main...</td>\n",
              "    </tr>\n",
              "    <tr>\n",
              "      <th>582</th>\n",
              "      <td>grerat love story series book 4 fantastic love...</td>\n",
              "    </tr>\n",
              "    <tr>\n",
              "      <th>4081</th>\n",
              "      <td>book religous rock used book information rock ...</td>\n",
              "    </tr>\n",
              "    <tr>\n",
              "      <th>8412</th>\n",
              "      <td>seducing jane porter story hot right start jan...</td>\n",
              "    </tr>\n",
              "  </tbody>\n",
              "</table>\n",
              "</div>\n",
              "      <button class=\"colab-df-convert\" onclick=\"convertToInteractive('df-6f953bdc-0c49-43e7-9ab6-7ffc25b73524')\"\n",
              "              title=\"Convert this dataframe to an interactive table.\"\n",
              "              style=\"display:none;\">\n",
              "        \n",
              "  <svg xmlns=\"http://www.w3.org/2000/svg\" height=\"24px\"viewBox=\"0 0 24 24\"\n",
              "       width=\"24px\">\n",
              "    <path d=\"M0 0h24v24H0V0z\" fill=\"none\"/>\n",
              "    <path d=\"M18.56 5.44l.94 2.06.94-2.06 2.06-.94-2.06-.94-.94-2.06-.94 2.06-2.06.94zm-11 1L8.5 8.5l.94-2.06 2.06-.94-2.06-.94L8.5 2.5l-.94 2.06-2.06.94zm10 10l.94 2.06.94-2.06 2.06-.94-2.06-.94-.94-2.06-.94 2.06-2.06.94z\"/><path d=\"M17.41 7.96l-1.37-1.37c-.4-.4-.92-.59-1.43-.59-.52 0-1.04.2-1.43.59L10.3 9.45l-7.72 7.72c-.78.78-.78 2.05 0 2.83L4 21.41c.39.39.9.59 1.41.59.51 0 1.02-.2 1.41-.59l7.78-7.78 2.81-2.81c.8-.78.8-2.07 0-2.86zM5.41 20L4 18.59l7.72-7.72 1.47 1.35L5.41 20z\"/>\n",
              "  </svg>\n",
              "      </button>\n",
              "      \n",
              "  <style>\n",
              "    .colab-df-container {\n",
              "      display:flex;\n",
              "      flex-wrap:wrap;\n",
              "      gap: 12px;\n",
              "    }\n",
              "\n",
              "    .colab-df-convert {\n",
              "      background-color: #E8F0FE;\n",
              "      border: none;\n",
              "      border-radius: 50%;\n",
              "      cursor: pointer;\n",
              "      display: none;\n",
              "      fill: #1967D2;\n",
              "      height: 32px;\n",
              "      padding: 0 0 0 0;\n",
              "      width: 32px;\n",
              "    }\n",
              "\n",
              "    .colab-df-convert:hover {\n",
              "      background-color: #E2EBFA;\n",
              "      box-shadow: 0px 1px 2px rgba(60, 64, 67, 0.3), 0px 1px 3px 1px rgba(60, 64, 67, 0.15);\n",
              "      fill: #174EA6;\n",
              "    }\n",
              "\n",
              "    [theme=dark] .colab-df-convert {\n",
              "      background-color: #3B4455;\n",
              "      fill: #D2E3FC;\n",
              "    }\n",
              "\n",
              "    [theme=dark] .colab-df-convert:hover {\n",
              "      background-color: #434B5C;\n",
              "      box-shadow: 0px 1px 3px 1px rgba(0, 0, 0, 0.15);\n",
              "      filter: drop-shadow(0px 1px 2px rgba(0, 0, 0, 0.3));\n",
              "      fill: #FFFFFF;\n",
              "    }\n",
              "  </style>\n",
              "\n",
              "      <script>\n",
              "        const buttonEl =\n",
              "          document.querySelector('#df-6f953bdc-0c49-43e7-9ab6-7ffc25b73524 button.colab-df-convert');\n",
              "        buttonEl.style.display =\n",
              "          google.colab.kernel.accessAllowed ? 'block' : 'none';\n",
              "\n",
              "        async function convertToInteractive(key) {\n",
              "          const element = document.querySelector('#df-6f953bdc-0c49-43e7-9ab6-7ffc25b73524');\n",
              "          const dataTable =\n",
              "            await google.colab.kernel.invokeFunction('convertToInteractive',\n",
              "                                                     [key], {});\n",
              "          if (!dataTable) return;\n",
              "\n",
              "          const docLinkHtml = 'Like what you see? Visit the ' +\n",
              "            '<a target=\"_blank\" href=https://colab.research.google.com/notebooks/data_table.ipynb>data table notebook</a>'\n",
              "            + ' to learn more about interactive tables.';\n",
              "          element.innerHTML = '';\n",
              "          dataTable['output_type'] = 'display_data';\n",
              "          await google.colab.output.renderOutput(dataTable, element);\n",
              "          const docLink = document.createElement('div');\n",
              "          docLink.innerHTML = docLinkHtml;\n",
              "          element.appendChild(docLink);\n",
              "        }\n",
              "      </script>\n",
              "    </div>\n",
              "  </div>\n",
              "  "
            ]
          },
          "metadata": {},
          "execution_count": 9
        }
      ]
    },
    {
      "cell_type": "markdown",
      "source": [
        "## 2.3 Clean up text in test data"
      ],
      "metadata": {
        "id": "Lmm_sIgJtDMD"
      }
    },
    {
      "cell_type": "code",
      "source": [
        "# combine reviewText and summary\n",
        "df_test['text'] = df_test['summary'] + \" \" + df_test['reviewText']"
      ],
      "metadata": {
        "id": "j2A6bz82tZZq"
      },
      "execution_count": null,
      "outputs": []
    },
    {
      "cell_type": "code",
      "source": [
        "# Remove html\n",
        "html_rem = re.compile(\"<.*?>|&([a-z0-9]+|#[0-9]{1,6}|#x[0-9a-f]{1,6});\")\n",
        "df_test['text'] = df_test['text'].str.replace(html_rem, \" \")\n",
        "\n",
        "# Html character codes (i.e., &...;) are replaced with an ASCII equivalent\n",
        "df_test['text'] = html.unescape(df_test['text'])\n",
        "\n",
        "# Remove URL using RE matching 'https' following by any non-empty characters\n",
        "df_test['text'] = df_test['text'].str.replace('https\\S+','') \n",
        "\n",
        "# remove thing after @\n",
        "df_test['text'] = df_test['text'].str.replace('@(?=\\w+)\\w+', '')\n",
        "\n",
        "# remove punctuation\n",
        "df_test['text'] = df_test['text'].str.translate(str.maketrans('', '', string.punctuation))\n",
        "\n",
        "# convert to lower\n",
        "df_test['text'] = df_test['text'].str.lower()\n",
        "\n",
        "# tonkenize \n",
        "df_test['text'] = df_test['text'].apply(word_tokenize)\n",
        "\n",
        "# remove stop words\n",
        "df_test['text'] = df_test['text'].apply(lambda x: [item for item in x if item not in stop_words])\n",
        "\n",
        "# lemmatisation\n",
        "lemmatizer = WordNetLemmatizer() \n",
        "df_test['text'] = df_test['text'].apply(lambda x: [lemmatizer.lemmatize(word) for word in x])\n",
        "\n",
        "\n",
        "df_test['text_cleaned'] = df_test['text']\n",
        "\n",
        "#ready for vectorize\n",
        "df_test['text_cleaned_v'] = df_test['text'].str.join(' ')"
      ],
      "metadata": {
        "id": "3i5L9cqpt87D"
      },
      "execution_count": null,
      "outputs": []
    },
    {
      "cell_type": "code",
      "source": [
        "df_test[['text_cleaned']].head()"
      ],
      "metadata": {
        "colab": {
          "base_uri": "https://localhost:8080/",
          "height": 206
        },
        "id": "zvZI_sLgvapD",
        "outputId": "011f109b-39b4-4ac9-d5d0-8d16e199321c"
      },
      "execution_count": null,
      "outputs": [
        {
          "output_type": "execute_result",
          "data": {
            "text/plain": [
              "                                           text_cleaned\n",
              "520   [autobiography, lt, cupcake, read, bubba, book...\n",
              "1763  [wolf, ring, story, started, promising, ended,...\n",
              "1875  [great, series, loved, series, atlanta, westmo...\n",
              "5355  [disappointing, reading, bid, love, gave, 5, s...\n",
              "3965  [good, book, look, book, author, hope, find, b..."
            ],
            "text/html": [
              "\n",
              "  <div id=\"df-48177631-0cbd-445d-965c-ccbdc14c3004\">\n",
              "    <div class=\"colab-df-container\">\n",
              "      <div>\n",
              "<style scoped>\n",
              "    .dataframe tbody tr th:only-of-type {\n",
              "        vertical-align: middle;\n",
              "    }\n",
              "\n",
              "    .dataframe tbody tr th {\n",
              "        vertical-align: top;\n",
              "    }\n",
              "\n",
              "    .dataframe thead th {\n",
              "        text-align: right;\n",
              "    }\n",
              "</style>\n",
              "<table border=\"1\" class=\"dataframe\">\n",
              "  <thead>\n",
              "    <tr style=\"text-align: right;\">\n",
              "      <th></th>\n",
              "      <th>text_cleaned</th>\n",
              "    </tr>\n",
              "  </thead>\n",
              "  <tbody>\n",
              "    <tr>\n",
              "      <th>520</th>\n",
              "      <td>[autobiography, lt, cupcake, read, bubba, book...</td>\n",
              "    </tr>\n",
              "    <tr>\n",
              "      <th>1763</th>\n",
              "      <td>[wolf, ring, story, started, promising, ended,...</td>\n",
              "    </tr>\n",
              "    <tr>\n",
              "      <th>1875</th>\n",
              "      <td>[great, series, loved, series, atlanta, westmo...</td>\n",
              "    </tr>\n",
              "    <tr>\n",
              "      <th>5355</th>\n",
              "      <td>[disappointing, reading, bid, love, gave, 5, s...</td>\n",
              "    </tr>\n",
              "    <tr>\n",
              "      <th>3965</th>\n",
              "      <td>[good, book, look, book, author, hope, find, b...</td>\n",
              "    </tr>\n",
              "  </tbody>\n",
              "</table>\n",
              "</div>\n",
              "      <button class=\"colab-df-convert\" onclick=\"convertToInteractive('df-48177631-0cbd-445d-965c-ccbdc14c3004')\"\n",
              "              title=\"Convert this dataframe to an interactive table.\"\n",
              "              style=\"display:none;\">\n",
              "        \n",
              "  <svg xmlns=\"http://www.w3.org/2000/svg\" height=\"24px\"viewBox=\"0 0 24 24\"\n",
              "       width=\"24px\">\n",
              "    <path d=\"M0 0h24v24H0V0z\" fill=\"none\"/>\n",
              "    <path d=\"M18.56 5.44l.94 2.06.94-2.06 2.06-.94-2.06-.94-.94-2.06-.94 2.06-2.06.94zm-11 1L8.5 8.5l.94-2.06 2.06-.94-2.06-.94L8.5 2.5l-.94 2.06-2.06.94zm10 10l.94 2.06.94-2.06 2.06-.94-2.06-.94-.94-2.06-.94 2.06-2.06.94z\"/><path d=\"M17.41 7.96l-1.37-1.37c-.4-.4-.92-.59-1.43-.59-.52 0-1.04.2-1.43.59L10.3 9.45l-7.72 7.72c-.78.78-.78 2.05 0 2.83L4 21.41c.39.39.9.59 1.41.59.51 0 1.02-.2 1.41-.59l7.78-7.78 2.81-2.81c.8-.78.8-2.07 0-2.86zM5.41 20L4 18.59l7.72-7.72 1.47 1.35L5.41 20z\"/>\n",
              "  </svg>\n",
              "      </button>\n",
              "      \n",
              "  <style>\n",
              "    .colab-df-container {\n",
              "      display:flex;\n",
              "      flex-wrap:wrap;\n",
              "      gap: 12px;\n",
              "    }\n",
              "\n",
              "    .colab-df-convert {\n",
              "      background-color: #E8F0FE;\n",
              "      border: none;\n",
              "      border-radius: 50%;\n",
              "      cursor: pointer;\n",
              "      display: none;\n",
              "      fill: #1967D2;\n",
              "      height: 32px;\n",
              "      padding: 0 0 0 0;\n",
              "      width: 32px;\n",
              "    }\n",
              "\n",
              "    .colab-df-convert:hover {\n",
              "      background-color: #E2EBFA;\n",
              "      box-shadow: 0px 1px 2px rgba(60, 64, 67, 0.3), 0px 1px 3px 1px rgba(60, 64, 67, 0.15);\n",
              "      fill: #174EA6;\n",
              "    }\n",
              "\n",
              "    [theme=dark] .colab-df-convert {\n",
              "      background-color: #3B4455;\n",
              "      fill: #D2E3FC;\n",
              "    }\n",
              "\n",
              "    [theme=dark] .colab-df-convert:hover {\n",
              "      background-color: #434B5C;\n",
              "      box-shadow: 0px 1px 3px 1px rgba(0, 0, 0, 0.15);\n",
              "      filter: drop-shadow(0px 1px 2px rgba(0, 0, 0, 0.3));\n",
              "      fill: #FFFFFF;\n",
              "    }\n",
              "  </style>\n",
              "\n",
              "      <script>\n",
              "        const buttonEl =\n",
              "          document.querySelector('#df-48177631-0cbd-445d-965c-ccbdc14c3004 button.colab-df-convert');\n",
              "        buttonEl.style.display =\n",
              "          google.colab.kernel.accessAllowed ? 'block' : 'none';\n",
              "\n",
              "        async function convertToInteractive(key) {\n",
              "          const element = document.querySelector('#df-48177631-0cbd-445d-965c-ccbdc14c3004');\n",
              "          const dataTable =\n",
              "            await google.colab.kernel.invokeFunction('convertToInteractive',\n",
              "                                                     [key], {});\n",
              "          if (!dataTable) return;\n",
              "\n",
              "          const docLinkHtml = 'Like what you see? Visit the ' +\n",
              "            '<a target=\"_blank\" href=https://colab.research.google.com/notebooks/data_table.ipynb>data table notebook</a>'\n",
              "            + ' to learn more about interactive tables.';\n",
              "          element.innerHTML = '';\n",
              "          dataTable['output_type'] = 'display_data';\n",
              "          await google.colab.output.renderOutput(dataTable, element);\n",
              "          const docLink = document.createElement('div');\n",
              "          docLink.innerHTML = docLinkHtml;\n",
              "          element.appendChild(docLink);\n",
              "        }\n",
              "      </script>\n",
              "    </div>\n",
              "  </div>\n",
              "  "
            ]
          },
          "metadata": {},
          "execution_count": 12
        }
      ]
    },
    {
      "cell_type": "markdown",
      "source": [
        "## 2.4 Check if target column contained null"
      ],
      "metadata": {
        "id": "3BZ_qcjO7DxJ"
      }
    },
    {
      "cell_type": "code",
      "source": [
        "# training set\n",
        "if df_train['rating'].isnull().values.any() == False:\n",
        "  print('Does rating in training set contains missing value: No') \n",
        "else:\n",
        "  print('Does rating in training set contains missing value: Yes') \n",
        "\n",
        "df_train['rating'].value_counts()"
      ],
      "metadata": {
        "colab": {
          "base_uri": "https://localhost:8080/"
        },
        "id": "xH5U4hEb7DHT",
        "outputId": "cd1f518b-7959-45b7-b938-01eb78824387"
      },
      "execution_count": null,
      "outputs": [
        {
          "output_type": "stream",
          "name": "stdout",
          "text": [
            "Does rating in training set contains missing value: No\n"
          ]
        },
        {
          "output_type": "execute_result",
          "data": {
            "text/plain": [
              "4    1924\n",
              "5    1787\n",
              "1    1355\n",
              "2    1199\n",
              "3     935\n",
              "Name: rating, dtype: int64"
            ]
          },
          "metadata": {},
          "execution_count": 13
        }
      ]
    },
    {
      "cell_type": "markdown",
      "source": [
        "## 2.5 Change the range of rating"
      ],
      "metadata": {
        "id": "e4U_D3ZGj4eN"
      }
    },
    {
      "cell_type": "code",
      "source": [
        "df_train['rating'] = df_train['rating'] -1\n",
        "df_test['rating'] = df_test['rating'] -1"
      ],
      "metadata": {
        "id": "THJkaRipj8js"
      },
      "execution_count": null,
      "outputs": []
    },
    {
      "cell_type": "markdown",
      "source": [
        "# Part 3 Model preparation for Task A"
      ],
      "metadata": {
        "id": "8HWyzJQ5Rb2p"
      }
    },
    {
      "cell_type": "markdown",
      "source": [
        "## 3.1 BOW"
      ],
      "metadata": {
        "id": "ORxgXufTYVDy"
      }
    },
    {
      "cell_type": "code",
      "source": [
        "count_vectorizer = CountVectorizer(ngram_range=(1, 2), min_df = 2, max_df = 0.9)\n",
        "vectorizer1 = count_vectorizer.fit_transform(df_train['text_cleaned_v'])"
      ],
      "metadata": {
        "id": "pv50sE5wYZCj"
      },
      "execution_count": null,
      "outputs": []
    },
    {
      "cell_type": "code",
      "source": [
        "# show the BOW matrix\n",
        "word_names1 = count_vectorizer.get_feature_names()\n",
        "BOW_matrix = pd.DataFrame(vectorizer1.toarray(), columns=list(word_names1))\n",
        "BOW_matrix"
      ],
      "metadata": {
        "id": "qicZ77qPeV6v",
        "colab": {
          "base_uri": "https://localhost:8080/",
          "height": 485
        },
        "outputId": "c04bd9c2-28d3-4f7f-f439-615989868e7d"
      },
      "execution_count": null,
      "outputs": [
        {
          "output_type": "execute_result",
          "data": {
            "text/plain": [
              "      00  000  05  099  099 worth  10  10 book  10 minute  10 page  10 star  \\\n",
              "0      0    0   0    0          0   0        0          0        0        0   \n",
              "1      0    0   0    0          0   0        0          0        0        0   \n",
              "2      0    0   0    0          0   0        0          0        0        0   \n",
              "3      0    0   0    0          0   0        0          0        0        0   \n",
              "4      0    0   0    0          0   0        0          0        0        0   \n",
              "...   ..  ...  ..  ...        ...  ..      ...        ...      ...      ...   \n",
              "7195   0    0   0    0          0   0        0          0        0        0   \n",
              "7196   0    0   0    0          0   0        0          0        0        0   \n",
              "7197   0    0   0    0          0   0        0          0        0        0   \n",
              "7198   0    0   0    0          0   0        0          0        0        0   \n",
              "7199   0    0   0    0          0   0        0          0        0        0   \n",
              "\n",
              "      ...  zoomed  zorn  zorn warrior  zsadist  zsadist bella  zsadist bellas  \\\n",
              "0     ...       0     0             0        0              0               0   \n",
              "1     ...       0     0             0        0              0               0   \n",
              "2     ...       0     0             0        0              0               0   \n",
              "3     ...       0     0             0        0              0               0   \n",
              "4     ...       0     0             0        0              0               0   \n",
              "...   ...     ...   ...           ...      ...            ...             ...   \n",
              "7195  ...       0     0             0        0              0               0   \n",
              "7196  ...       0     0             0        0              0               0   \n",
              "7197  ...       0     0             0        0              0               0   \n",
              "7198  ...       0     0             0        0              0               0   \n",
              "7199  ...       0     0             0        0              0               0   \n",
              "\n",
              "      zsadist one  zsadist story  zsadists  zyra  \n",
              "0               0              0         0     0  \n",
              "1               0              0         0     0  \n",
              "2               0              0         0     0  \n",
              "3               0              0         0     0  \n",
              "4               0              0         0     0  \n",
              "...           ...            ...       ...   ...  \n",
              "7195            0              0         0     0  \n",
              "7196            0              0         0     0  \n",
              "7197            0              0         0     0  \n",
              "7198            0              0         0     0  \n",
              "7199            0              0         0     0  \n",
              "\n",
              "[7200 rows x 49583 columns]"
            ],
            "text/html": [
              "\n",
              "  <div id=\"df-9c4956d4-5eee-4cb9-b4d0-2c0edc351bf2\">\n",
              "    <div class=\"colab-df-container\">\n",
              "      <div>\n",
              "<style scoped>\n",
              "    .dataframe tbody tr th:only-of-type {\n",
              "        vertical-align: middle;\n",
              "    }\n",
              "\n",
              "    .dataframe tbody tr th {\n",
              "        vertical-align: top;\n",
              "    }\n",
              "\n",
              "    .dataframe thead th {\n",
              "        text-align: right;\n",
              "    }\n",
              "</style>\n",
              "<table border=\"1\" class=\"dataframe\">\n",
              "  <thead>\n",
              "    <tr style=\"text-align: right;\">\n",
              "      <th></th>\n",
              "      <th>00</th>\n",
              "      <th>000</th>\n",
              "      <th>05</th>\n",
              "      <th>099</th>\n",
              "      <th>099 worth</th>\n",
              "      <th>10</th>\n",
              "      <th>10 book</th>\n",
              "      <th>10 minute</th>\n",
              "      <th>10 page</th>\n",
              "      <th>10 star</th>\n",
              "      <th>...</th>\n",
              "      <th>zoomed</th>\n",
              "      <th>zorn</th>\n",
              "      <th>zorn warrior</th>\n",
              "      <th>zsadist</th>\n",
              "      <th>zsadist bella</th>\n",
              "      <th>zsadist bellas</th>\n",
              "      <th>zsadist one</th>\n",
              "      <th>zsadist story</th>\n",
              "      <th>zsadists</th>\n",
              "      <th>zyra</th>\n",
              "    </tr>\n",
              "  </thead>\n",
              "  <tbody>\n",
              "    <tr>\n",
              "      <th>0</th>\n",
              "      <td>0</td>\n",
              "      <td>0</td>\n",
              "      <td>0</td>\n",
              "      <td>0</td>\n",
              "      <td>0</td>\n",
              "      <td>0</td>\n",
              "      <td>0</td>\n",
              "      <td>0</td>\n",
              "      <td>0</td>\n",
              "      <td>0</td>\n",
              "      <td>...</td>\n",
              "      <td>0</td>\n",
              "      <td>0</td>\n",
              "      <td>0</td>\n",
              "      <td>0</td>\n",
              "      <td>0</td>\n",
              "      <td>0</td>\n",
              "      <td>0</td>\n",
              "      <td>0</td>\n",
              "      <td>0</td>\n",
              "      <td>0</td>\n",
              "    </tr>\n",
              "    <tr>\n",
              "      <th>1</th>\n",
              "      <td>0</td>\n",
              "      <td>0</td>\n",
              "      <td>0</td>\n",
              "      <td>0</td>\n",
              "      <td>0</td>\n",
              "      <td>0</td>\n",
              "      <td>0</td>\n",
              "      <td>0</td>\n",
              "      <td>0</td>\n",
              "      <td>0</td>\n",
              "      <td>...</td>\n",
              "      <td>0</td>\n",
              "      <td>0</td>\n",
              "      <td>0</td>\n",
              "      <td>0</td>\n",
              "      <td>0</td>\n",
              "      <td>0</td>\n",
              "      <td>0</td>\n",
              "      <td>0</td>\n",
              "      <td>0</td>\n",
              "      <td>0</td>\n",
              "    </tr>\n",
              "    <tr>\n",
              "      <th>2</th>\n",
              "      <td>0</td>\n",
              "      <td>0</td>\n",
              "      <td>0</td>\n",
              "      <td>0</td>\n",
              "      <td>0</td>\n",
              "      <td>0</td>\n",
              "      <td>0</td>\n",
              "      <td>0</td>\n",
              "      <td>0</td>\n",
              "      <td>0</td>\n",
              "      <td>...</td>\n",
              "      <td>0</td>\n",
              "      <td>0</td>\n",
              "      <td>0</td>\n",
              "      <td>0</td>\n",
              "      <td>0</td>\n",
              "      <td>0</td>\n",
              "      <td>0</td>\n",
              "      <td>0</td>\n",
              "      <td>0</td>\n",
              "      <td>0</td>\n",
              "    </tr>\n",
              "    <tr>\n",
              "      <th>3</th>\n",
              "      <td>0</td>\n",
              "      <td>0</td>\n",
              "      <td>0</td>\n",
              "      <td>0</td>\n",
              "      <td>0</td>\n",
              "      <td>0</td>\n",
              "      <td>0</td>\n",
              "      <td>0</td>\n",
              "      <td>0</td>\n",
              "      <td>0</td>\n",
              "      <td>...</td>\n",
              "      <td>0</td>\n",
              "      <td>0</td>\n",
              "      <td>0</td>\n",
              "      <td>0</td>\n",
              "      <td>0</td>\n",
              "      <td>0</td>\n",
              "      <td>0</td>\n",
              "      <td>0</td>\n",
              "      <td>0</td>\n",
              "      <td>0</td>\n",
              "    </tr>\n",
              "    <tr>\n",
              "      <th>4</th>\n",
              "      <td>0</td>\n",
              "      <td>0</td>\n",
              "      <td>0</td>\n",
              "      <td>0</td>\n",
              "      <td>0</td>\n",
              "      <td>0</td>\n",
              "      <td>0</td>\n",
              "      <td>0</td>\n",
              "      <td>0</td>\n",
              "      <td>0</td>\n",
              "      <td>...</td>\n",
              "      <td>0</td>\n",
              "      <td>0</td>\n",
              "      <td>0</td>\n",
              "      <td>0</td>\n",
              "      <td>0</td>\n",
              "      <td>0</td>\n",
              "      <td>0</td>\n",
              "      <td>0</td>\n",
              "      <td>0</td>\n",
              "      <td>0</td>\n",
              "    </tr>\n",
              "    <tr>\n",
              "      <th>...</th>\n",
              "      <td>...</td>\n",
              "      <td>...</td>\n",
              "      <td>...</td>\n",
              "      <td>...</td>\n",
              "      <td>...</td>\n",
              "      <td>...</td>\n",
              "      <td>...</td>\n",
              "      <td>...</td>\n",
              "      <td>...</td>\n",
              "      <td>...</td>\n",
              "      <td>...</td>\n",
              "      <td>...</td>\n",
              "      <td>...</td>\n",
              "      <td>...</td>\n",
              "      <td>...</td>\n",
              "      <td>...</td>\n",
              "      <td>...</td>\n",
              "      <td>...</td>\n",
              "      <td>...</td>\n",
              "      <td>...</td>\n",
              "      <td>...</td>\n",
              "    </tr>\n",
              "    <tr>\n",
              "      <th>7195</th>\n",
              "      <td>0</td>\n",
              "      <td>0</td>\n",
              "      <td>0</td>\n",
              "      <td>0</td>\n",
              "      <td>0</td>\n",
              "      <td>0</td>\n",
              "      <td>0</td>\n",
              "      <td>0</td>\n",
              "      <td>0</td>\n",
              "      <td>0</td>\n",
              "      <td>...</td>\n",
              "      <td>0</td>\n",
              "      <td>0</td>\n",
              "      <td>0</td>\n",
              "      <td>0</td>\n",
              "      <td>0</td>\n",
              "      <td>0</td>\n",
              "      <td>0</td>\n",
              "      <td>0</td>\n",
              "      <td>0</td>\n",
              "      <td>0</td>\n",
              "    </tr>\n",
              "    <tr>\n",
              "      <th>7196</th>\n",
              "      <td>0</td>\n",
              "      <td>0</td>\n",
              "      <td>0</td>\n",
              "      <td>0</td>\n",
              "      <td>0</td>\n",
              "      <td>0</td>\n",
              "      <td>0</td>\n",
              "      <td>0</td>\n",
              "      <td>0</td>\n",
              "      <td>0</td>\n",
              "      <td>...</td>\n",
              "      <td>0</td>\n",
              "      <td>0</td>\n",
              "      <td>0</td>\n",
              "      <td>0</td>\n",
              "      <td>0</td>\n",
              "      <td>0</td>\n",
              "      <td>0</td>\n",
              "      <td>0</td>\n",
              "      <td>0</td>\n",
              "      <td>0</td>\n",
              "    </tr>\n",
              "    <tr>\n",
              "      <th>7197</th>\n",
              "      <td>0</td>\n",
              "      <td>0</td>\n",
              "      <td>0</td>\n",
              "      <td>0</td>\n",
              "      <td>0</td>\n",
              "      <td>0</td>\n",
              "      <td>0</td>\n",
              "      <td>0</td>\n",
              "      <td>0</td>\n",
              "      <td>0</td>\n",
              "      <td>...</td>\n",
              "      <td>0</td>\n",
              "      <td>0</td>\n",
              "      <td>0</td>\n",
              "      <td>0</td>\n",
              "      <td>0</td>\n",
              "      <td>0</td>\n",
              "      <td>0</td>\n",
              "      <td>0</td>\n",
              "      <td>0</td>\n",
              "      <td>0</td>\n",
              "    </tr>\n",
              "    <tr>\n",
              "      <th>7198</th>\n",
              "      <td>0</td>\n",
              "      <td>0</td>\n",
              "      <td>0</td>\n",
              "      <td>0</td>\n",
              "      <td>0</td>\n",
              "      <td>0</td>\n",
              "      <td>0</td>\n",
              "      <td>0</td>\n",
              "      <td>0</td>\n",
              "      <td>0</td>\n",
              "      <td>...</td>\n",
              "      <td>0</td>\n",
              "      <td>0</td>\n",
              "      <td>0</td>\n",
              "      <td>0</td>\n",
              "      <td>0</td>\n",
              "      <td>0</td>\n",
              "      <td>0</td>\n",
              "      <td>0</td>\n",
              "      <td>0</td>\n",
              "      <td>0</td>\n",
              "    </tr>\n",
              "    <tr>\n",
              "      <th>7199</th>\n",
              "      <td>0</td>\n",
              "      <td>0</td>\n",
              "      <td>0</td>\n",
              "      <td>0</td>\n",
              "      <td>0</td>\n",
              "      <td>0</td>\n",
              "      <td>0</td>\n",
              "      <td>0</td>\n",
              "      <td>0</td>\n",
              "      <td>0</td>\n",
              "      <td>...</td>\n",
              "      <td>0</td>\n",
              "      <td>0</td>\n",
              "      <td>0</td>\n",
              "      <td>0</td>\n",
              "      <td>0</td>\n",
              "      <td>0</td>\n",
              "      <td>0</td>\n",
              "      <td>0</td>\n",
              "      <td>0</td>\n",
              "      <td>0</td>\n",
              "    </tr>\n",
              "  </tbody>\n",
              "</table>\n",
              "<p>7200 rows × 49583 columns</p>\n",
              "</div>\n",
              "      <button class=\"colab-df-convert\" onclick=\"convertToInteractive('df-9c4956d4-5eee-4cb9-b4d0-2c0edc351bf2')\"\n",
              "              title=\"Convert this dataframe to an interactive table.\"\n",
              "              style=\"display:none;\">\n",
              "        \n",
              "  <svg xmlns=\"http://www.w3.org/2000/svg\" height=\"24px\"viewBox=\"0 0 24 24\"\n",
              "       width=\"24px\">\n",
              "    <path d=\"M0 0h24v24H0V0z\" fill=\"none\"/>\n",
              "    <path d=\"M18.56 5.44l.94 2.06.94-2.06 2.06-.94-2.06-.94-.94-2.06-.94 2.06-2.06.94zm-11 1L8.5 8.5l.94-2.06 2.06-.94-2.06-.94L8.5 2.5l-.94 2.06-2.06.94zm10 10l.94 2.06.94-2.06 2.06-.94-2.06-.94-.94-2.06-.94 2.06-2.06.94z\"/><path d=\"M17.41 7.96l-1.37-1.37c-.4-.4-.92-.59-1.43-.59-.52 0-1.04.2-1.43.59L10.3 9.45l-7.72 7.72c-.78.78-.78 2.05 0 2.83L4 21.41c.39.39.9.59 1.41.59.51 0 1.02-.2 1.41-.59l7.78-7.78 2.81-2.81c.8-.78.8-2.07 0-2.86zM5.41 20L4 18.59l7.72-7.72 1.47 1.35L5.41 20z\"/>\n",
              "  </svg>\n",
              "      </button>\n",
              "      \n",
              "  <style>\n",
              "    .colab-df-container {\n",
              "      display:flex;\n",
              "      flex-wrap:wrap;\n",
              "      gap: 12px;\n",
              "    }\n",
              "\n",
              "    .colab-df-convert {\n",
              "      background-color: #E8F0FE;\n",
              "      border: none;\n",
              "      border-radius: 50%;\n",
              "      cursor: pointer;\n",
              "      display: none;\n",
              "      fill: #1967D2;\n",
              "      height: 32px;\n",
              "      padding: 0 0 0 0;\n",
              "      width: 32px;\n",
              "    }\n",
              "\n",
              "    .colab-df-convert:hover {\n",
              "      background-color: #E2EBFA;\n",
              "      box-shadow: 0px 1px 2px rgba(60, 64, 67, 0.3), 0px 1px 3px 1px rgba(60, 64, 67, 0.15);\n",
              "      fill: #174EA6;\n",
              "    }\n",
              "\n",
              "    [theme=dark] .colab-df-convert {\n",
              "      background-color: #3B4455;\n",
              "      fill: #D2E3FC;\n",
              "    }\n",
              "\n",
              "    [theme=dark] .colab-df-convert:hover {\n",
              "      background-color: #434B5C;\n",
              "      box-shadow: 0px 1px 3px 1px rgba(0, 0, 0, 0.15);\n",
              "      filter: drop-shadow(0px 1px 2px rgba(0, 0, 0, 0.3));\n",
              "      fill: #FFFFFF;\n",
              "    }\n",
              "  </style>\n",
              "\n",
              "      <script>\n",
              "        const buttonEl =\n",
              "          document.querySelector('#df-9c4956d4-5eee-4cb9-b4d0-2c0edc351bf2 button.colab-df-convert');\n",
              "        buttonEl.style.display =\n",
              "          google.colab.kernel.accessAllowed ? 'block' : 'none';\n",
              "\n",
              "        async function convertToInteractive(key) {\n",
              "          const element = document.querySelector('#df-9c4956d4-5eee-4cb9-b4d0-2c0edc351bf2');\n",
              "          const dataTable =\n",
              "            await google.colab.kernel.invokeFunction('convertToInteractive',\n",
              "                                                     [key], {});\n",
              "          if (!dataTable) return;\n",
              "\n",
              "          const docLinkHtml = 'Like what you see? Visit the ' +\n",
              "            '<a target=\"_blank\" href=https://colab.research.google.com/notebooks/data_table.ipynb>data table notebook</a>'\n",
              "            + ' to learn more about interactive tables.';\n",
              "          element.innerHTML = '';\n",
              "          dataTable['output_type'] = 'display_data';\n",
              "          await google.colab.output.renderOutput(dataTable, element);\n",
              "          const docLink = document.createElement('div');\n",
              "          docLink.innerHTML = docLinkHtml;\n",
              "          element.appendChild(docLink);\n",
              "        }\n",
              "      </script>\n",
              "    </div>\n",
              "  </div>\n",
              "  "
            ]
          },
          "metadata": {},
          "execution_count": 16
        }
      ]
    },
    {
      "cell_type": "markdown",
      "source": [
        "## 3.2 TF-IDF"
      ],
      "metadata": {
        "id": "QFTN4mtBRegF"
      }
    },
    {
      "cell_type": "code",
      "source": [
        "tfidf_vectorizer = TfidfVectorizer(ngram_range=(1, 2), min_df = 2, max_df = 0.9)\n",
        " \n",
        "vectorizer2 = tfidf_vectorizer.fit_transform(df_train['text_cleaned_v'])\n"
      ],
      "metadata": {
        "id": "hKbjjaGoFSOZ"
      },
      "execution_count": null,
      "outputs": []
    },
    {
      "cell_type": "code",
      "source": [
        "# show the TF-IDF matrix\n",
        "word_names2 = tfidf_vectorizer.get_feature_names()\n",
        "tfidf_matrix = pd.DataFrame(vectorizer2.toarray(), columns=list(word_names2))\n",
        "tfidf_matrix"
      ],
      "metadata": {
        "id": "D0KUbvlsiY-a",
        "colab": {
          "base_uri": "https://localhost:8080/",
          "height": 485
        },
        "outputId": "74214983-980e-4a2d-b7fc-e4ab87213717"
      },
      "execution_count": null,
      "outputs": [
        {
          "output_type": "execute_result",
          "data": {
            "text/plain": [
              "       00  000   05  099  099 worth   10  10 book  10 minute  10 page  \\\n",
              "0     0.0  0.0  0.0  0.0        0.0  0.0      0.0        0.0      0.0   \n",
              "1     0.0  0.0  0.0  0.0        0.0  0.0      0.0        0.0      0.0   \n",
              "2     0.0  0.0  0.0  0.0        0.0  0.0      0.0        0.0      0.0   \n",
              "3     0.0  0.0  0.0  0.0        0.0  0.0      0.0        0.0      0.0   \n",
              "4     0.0  0.0  0.0  0.0        0.0  0.0      0.0        0.0      0.0   \n",
              "...   ...  ...  ...  ...        ...  ...      ...        ...      ...   \n",
              "7195  0.0  0.0  0.0  0.0        0.0  0.0      0.0        0.0      0.0   \n",
              "7196  0.0  0.0  0.0  0.0        0.0  0.0      0.0        0.0      0.0   \n",
              "7197  0.0  0.0  0.0  0.0        0.0  0.0      0.0        0.0      0.0   \n",
              "7198  0.0  0.0  0.0  0.0        0.0  0.0      0.0        0.0      0.0   \n",
              "7199  0.0  0.0  0.0  0.0        0.0  0.0      0.0        0.0      0.0   \n",
              "\n",
              "      10 star  ...  zoomed  zorn  zorn warrior  zsadist  zsadist bella  \\\n",
              "0         0.0  ...     0.0   0.0           0.0      0.0            0.0   \n",
              "1         0.0  ...     0.0   0.0           0.0      0.0            0.0   \n",
              "2         0.0  ...     0.0   0.0           0.0      0.0            0.0   \n",
              "3         0.0  ...     0.0   0.0           0.0      0.0            0.0   \n",
              "4         0.0  ...     0.0   0.0           0.0      0.0            0.0   \n",
              "...       ...  ...     ...   ...           ...      ...            ...   \n",
              "7195      0.0  ...     0.0   0.0           0.0      0.0            0.0   \n",
              "7196      0.0  ...     0.0   0.0           0.0      0.0            0.0   \n",
              "7197      0.0  ...     0.0   0.0           0.0      0.0            0.0   \n",
              "7198      0.0  ...     0.0   0.0           0.0      0.0            0.0   \n",
              "7199      0.0  ...     0.0   0.0           0.0      0.0            0.0   \n",
              "\n",
              "      zsadist bellas  zsadist one  zsadist story  zsadists  zyra  \n",
              "0                0.0          0.0            0.0       0.0   0.0  \n",
              "1                0.0          0.0            0.0       0.0   0.0  \n",
              "2                0.0          0.0            0.0       0.0   0.0  \n",
              "3                0.0          0.0            0.0       0.0   0.0  \n",
              "4                0.0          0.0            0.0       0.0   0.0  \n",
              "...              ...          ...            ...       ...   ...  \n",
              "7195             0.0          0.0            0.0       0.0   0.0  \n",
              "7196             0.0          0.0            0.0       0.0   0.0  \n",
              "7197             0.0          0.0            0.0       0.0   0.0  \n",
              "7198             0.0          0.0            0.0       0.0   0.0  \n",
              "7199             0.0          0.0            0.0       0.0   0.0  \n",
              "\n",
              "[7200 rows x 49583 columns]"
            ],
            "text/html": [
              "\n",
              "  <div id=\"df-d689e9af-5aed-4280-928e-45847f4de087\">\n",
              "    <div class=\"colab-df-container\">\n",
              "      <div>\n",
              "<style scoped>\n",
              "    .dataframe tbody tr th:only-of-type {\n",
              "        vertical-align: middle;\n",
              "    }\n",
              "\n",
              "    .dataframe tbody tr th {\n",
              "        vertical-align: top;\n",
              "    }\n",
              "\n",
              "    .dataframe thead th {\n",
              "        text-align: right;\n",
              "    }\n",
              "</style>\n",
              "<table border=\"1\" class=\"dataframe\">\n",
              "  <thead>\n",
              "    <tr style=\"text-align: right;\">\n",
              "      <th></th>\n",
              "      <th>00</th>\n",
              "      <th>000</th>\n",
              "      <th>05</th>\n",
              "      <th>099</th>\n",
              "      <th>099 worth</th>\n",
              "      <th>10</th>\n",
              "      <th>10 book</th>\n",
              "      <th>10 minute</th>\n",
              "      <th>10 page</th>\n",
              "      <th>10 star</th>\n",
              "      <th>...</th>\n",
              "      <th>zoomed</th>\n",
              "      <th>zorn</th>\n",
              "      <th>zorn warrior</th>\n",
              "      <th>zsadist</th>\n",
              "      <th>zsadist bella</th>\n",
              "      <th>zsadist bellas</th>\n",
              "      <th>zsadist one</th>\n",
              "      <th>zsadist story</th>\n",
              "      <th>zsadists</th>\n",
              "      <th>zyra</th>\n",
              "    </tr>\n",
              "  </thead>\n",
              "  <tbody>\n",
              "    <tr>\n",
              "      <th>0</th>\n",
              "      <td>0.0</td>\n",
              "      <td>0.0</td>\n",
              "      <td>0.0</td>\n",
              "      <td>0.0</td>\n",
              "      <td>0.0</td>\n",
              "      <td>0.0</td>\n",
              "      <td>0.0</td>\n",
              "      <td>0.0</td>\n",
              "      <td>0.0</td>\n",
              "      <td>0.0</td>\n",
              "      <td>...</td>\n",
              "      <td>0.0</td>\n",
              "      <td>0.0</td>\n",
              "      <td>0.0</td>\n",
              "      <td>0.0</td>\n",
              "      <td>0.0</td>\n",
              "      <td>0.0</td>\n",
              "      <td>0.0</td>\n",
              "      <td>0.0</td>\n",
              "      <td>0.0</td>\n",
              "      <td>0.0</td>\n",
              "    </tr>\n",
              "    <tr>\n",
              "      <th>1</th>\n",
              "      <td>0.0</td>\n",
              "      <td>0.0</td>\n",
              "      <td>0.0</td>\n",
              "      <td>0.0</td>\n",
              "      <td>0.0</td>\n",
              "      <td>0.0</td>\n",
              "      <td>0.0</td>\n",
              "      <td>0.0</td>\n",
              "      <td>0.0</td>\n",
              "      <td>0.0</td>\n",
              "      <td>...</td>\n",
              "      <td>0.0</td>\n",
              "      <td>0.0</td>\n",
              "      <td>0.0</td>\n",
              "      <td>0.0</td>\n",
              "      <td>0.0</td>\n",
              "      <td>0.0</td>\n",
              "      <td>0.0</td>\n",
              "      <td>0.0</td>\n",
              "      <td>0.0</td>\n",
              "      <td>0.0</td>\n",
              "    </tr>\n",
              "    <tr>\n",
              "      <th>2</th>\n",
              "      <td>0.0</td>\n",
              "      <td>0.0</td>\n",
              "      <td>0.0</td>\n",
              "      <td>0.0</td>\n",
              "      <td>0.0</td>\n",
              "      <td>0.0</td>\n",
              "      <td>0.0</td>\n",
              "      <td>0.0</td>\n",
              "      <td>0.0</td>\n",
              "      <td>0.0</td>\n",
              "      <td>...</td>\n",
              "      <td>0.0</td>\n",
              "      <td>0.0</td>\n",
              "      <td>0.0</td>\n",
              "      <td>0.0</td>\n",
              "      <td>0.0</td>\n",
              "      <td>0.0</td>\n",
              "      <td>0.0</td>\n",
              "      <td>0.0</td>\n",
              "      <td>0.0</td>\n",
              "      <td>0.0</td>\n",
              "    </tr>\n",
              "    <tr>\n",
              "      <th>3</th>\n",
              "      <td>0.0</td>\n",
              "      <td>0.0</td>\n",
              "      <td>0.0</td>\n",
              "      <td>0.0</td>\n",
              "      <td>0.0</td>\n",
              "      <td>0.0</td>\n",
              "      <td>0.0</td>\n",
              "      <td>0.0</td>\n",
              "      <td>0.0</td>\n",
              "      <td>0.0</td>\n",
              "      <td>...</td>\n",
              "      <td>0.0</td>\n",
              "      <td>0.0</td>\n",
              "      <td>0.0</td>\n",
              "      <td>0.0</td>\n",
              "      <td>0.0</td>\n",
              "      <td>0.0</td>\n",
              "      <td>0.0</td>\n",
              "      <td>0.0</td>\n",
              "      <td>0.0</td>\n",
              "      <td>0.0</td>\n",
              "    </tr>\n",
              "    <tr>\n",
              "      <th>4</th>\n",
              "      <td>0.0</td>\n",
              "      <td>0.0</td>\n",
              "      <td>0.0</td>\n",
              "      <td>0.0</td>\n",
              "      <td>0.0</td>\n",
              "      <td>0.0</td>\n",
              "      <td>0.0</td>\n",
              "      <td>0.0</td>\n",
              "      <td>0.0</td>\n",
              "      <td>0.0</td>\n",
              "      <td>...</td>\n",
              "      <td>0.0</td>\n",
              "      <td>0.0</td>\n",
              "      <td>0.0</td>\n",
              "      <td>0.0</td>\n",
              "      <td>0.0</td>\n",
              "      <td>0.0</td>\n",
              "      <td>0.0</td>\n",
              "      <td>0.0</td>\n",
              "      <td>0.0</td>\n",
              "      <td>0.0</td>\n",
              "    </tr>\n",
              "    <tr>\n",
              "      <th>...</th>\n",
              "      <td>...</td>\n",
              "      <td>...</td>\n",
              "      <td>...</td>\n",
              "      <td>...</td>\n",
              "      <td>...</td>\n",
              "      <td>...</td>\n",
              "      <td>...</td>\n",
              "      <td>...</td>\n",
              "      <td>...</td>\n",
              "      <td>...</td>\n",
              "      <td>...</td>\n",
              "      <td>...</td>\n",
              "      <td>...</td>\n",
              "      <td>...</td>\n",
              "      <td>...</td>\n",
              "      <td>...</td>\n",
              "      <td>...</td>\n",
              "      <td>...</td>\n",
              "      <td>...</td>\n",
              "      <td>...</td>\n",
              "      <td>...</td>\n",
              "    </tr>\n",
              "    <tr>\n",
              "      <th>7195</th>\n",
              "      <td>0.0</td>\n",
              "      <td>0.0</td>\n",
              "      <td>0.0</td>\n",
              "      <td>0.0</td>\n",
              "      <td>0.0</td>\n",
              "      <td>0.0</td>\n",
              "      <td>0.0</td>\n",
              "      <td>0.0</td>\n",
              "      <td>0.0</td>\n",
              "      <td>0.0</td>\n",
              "      <td>...</td>\n",
              "      <td>0.0</td>\n",
              "      <td>0.0</td>\n",
              "      <td>0.0</td>\n",
              "      <td>0.0</td>\n",
              "      <td>0.0</td>\n",
              "      <td>0.0</td>\n",
              "      <td>0.0</td>\n",
              "      <td>0.0</td>\n",
              "      <td>0.0</td>\n",
              "      <td>0.0</td>\n",
              "    </tr>\n",
              "    <tr>\n",
              "      <th>7196</th>\n",
              "      <td>0.0</td>\n",
              "      <td>0.0</td>\n",
              "      <td>0.0</td>\n",
              "      <td>0.0</td>\n",
              "      <td>0.0</td>\n",
              "      <td>0.0</td>\n",
              "      <td>0.0</td>\n",
              "      <td>0.0</td>\n",
              "      <td>0.0</td>\n",
              "      <td>0.0</td>\n",
              "      <td>...</td>\n",
              "      <td>0.0</td>\n",
              "      <td>0.0</td>\n",
              "      <td>0.0</td>\n",
              "      <td>0.0</td>\n",
              "      <td>0.0</td>\n",
              "      <td>0.0</td>\n",
              "      <td>0.0</td>\n",
              "      <td>0.0</td>\n",
              "      <td>0.0</td>\n",
              "      <td>0.0</td>\n",
              "    </tr>\n",
              "    <tr>\n",
              "      <th>7197</th>\n",
              "      <td>0.0</td>\n",
              "      <td>0.0</td>\n",
              "      <td>0.0</td>\n",
              "      <td>0.0</td>\n",
              "      <td>0.0</td>\n",
              "      <td>0.0</td>\n",
              "      <td>0.0</td>\n",
              "      <td>0.0</td>\n",
              "      <td>0.0</td>\n",
              "      <td>0.0</td>\n",
              "      <td>...</td>\n",
              "      <td>0.0</td>\n",
              "      <td>0.0</td>\n",
              "      <td>0.0</td>\n",
              "      <td>0.0</td>\n",
              "      <td>0.0</td>\n",
              "      <td>0.0</td>\n",
              "      <td>0.0</td>\n",
              "      <td>0.0</td>\n",
              "      <td>0.0</td>\n",
              "      <td>0.0</td>\n",
              "    </tr>\n",
              "    <tr>\n",
              "      <th>7198</th>\n",
              "      <td>0.0</td>\n",
              "      <td>0.0</td>\n",
              "      <td>0.0</td>\n",
              "      <td>0.0</td>\n",
              "      <td>0.0</td>\n",
              "      <td>0.0</td>\n",
              "      <td>0.0</td>\n",
              "      <td>0.0</td>\n",
              "      <td>0.0</td>\n",
              "      <td>0.0</td>\n",
              "      <td>...</td>\n",
              "      <td>0.0</td>\n",
              "      <td>0.0</td>\n",
              "      <td>0.0</td>\n",
              "      <td>0.0</td>\n",
              "      <td>0.0</td>\n",
              "      <td>0.0</td>\n",
              "      <td>0.0</td>\n",
              "      <td>0.0</td>\n",
              "      <td>0.0</td>\n",
              "      <td>0.0</td>\n",
              "    </tr>\n",
              "    <tr>\n",
              "      <th>7199</th>\n",
              "      <td>0.0</td>\n",
              "      <td>0.0</td>\n",
              "      <td>0.0</td>\n",
              "      <td>0.0</td>\n",
              "      <td>0.0</td>\n",
              "      <td>0.0</td>\n",
              "      <td>0.0</td>\n",
              "      <td>0.0</td>\n",
              "      <td>0.0</td>\n",
              "      <td>0.0</td>\n",
              "      <td>...</td>\n",
              "      <td>0.0</td>\n",
              "      <td>0.0</td>\n",
              "      <td>0.0</td>\n",
              "      <td>0.0</td>\n",
              "      <td>0.0</td>\n",
              "      <td>0.0</td>\n",
              "      <td>0.0</td>\n",
              "      <td>0.0</td>\n",
              "      <td>0.0</td>\n",
              "      <td>0.0</td>\n",
              "    </tr>\n",
              "  </tbody>\n",
              "</table>\n",
              "<p>7200 rows × 49583 columns</p>\n",
              "</div>\n",
              "      <button class=\"colab-df-convert\" onclick=\"convertToInteractive('df-d689e9af-5aed-4280-928e-45847f4de087')\"\n",
              "              title=\"Convert this dataframe to an interactive table.\"\n",
              "              style=\"display:none;\">\n",
              "        \n",
              "  <svg xmlns=\"http://www.w3.org/2000/svg\" height=\"24px\"viewBox=\"0 0 24 24\"\n",
              "       width=\"24px\">\n",
              "    <path d=\"M0 0h24v24H0V0z\" fill=\"none\"/>\n",
              "    <path d=\"M18.56 5.44l.94 2.06.94-2.06 2.06-.94-2.06-.94-.94-2.06-.94 2.06-2.06.94zm-11 1L8.5 8.5l.94-2.06 2.06-.94-2.06-.94L8.5 2.5l-.94 2.06-2.06.94zm10 10l.94 2.06.94-2.06 2.06-.94-2.06-.94-.94-2.06-.94 2.06-2.06.94z\"/><path d=\"M17.41 7.96l-1.37-1.37c-.4-.4-.92-.59-1.43-.59-.52 0-1.04.2-1.43.59L10.3 9.45l-7.72 7.72c-.78.78-.78 2.05 0 2.83L4 21.41c.39.39.9.59 1.41.59.51 0 1.02-.2 1.41-.59l7.78-7.78 2.81-2.81c.8-.78.8-2.07 0-2.86zM5.41 20L4 18.59l7.72-7.72 1.47 1.35L5.41 20z\"/>\n",
              "  </svg>\n",
              "      </button>\n",
              "      \n",
              "  <style>\n",
              "    .colab-df-container {\n",
              "      display:flex;\n",
              "      flex-wrap:wrap;\n",
              "      gap: 12px;\n",
              "    }\n",
              "\n",
              "    .colab-df-convert {\n",
              "      background-color: #E8F0FE;\n",
              "      border: none;\n",
              "      border-radius: 50%;\n",
              "      cursor: pointer;\n",
              "      display: none;\n",
              "      fill: #1967D2;\n",
              "      height: 32px;\n",
              "      padding: 0 0 0 0;\n",
              "      width: 32px;\n",
              "    }\n",
              "\n",
              "    .colab-df-convert:hover {\n",
              "      background-color: #E2EBFA;\n",
              "      box-shadow: 0px 1px 2px rgba(60, 64, 67, 0.3), 0px 1px 3px 1px rgba(60, 64, 67, 0.15);\n",
              "      fill: #174EA6;\n",
              "    }\n",
              "\n",
              "    [theme=dark] .colab-df-convert {\n",
              "      background-color: #3B4455;\n",
              "      fill: #D2E3FC;\n",
              "    }\n",
              "\n",
              "    [theme=dark] .colab-df-convert:hover {\n",
              "      background-color: #434B5C;\n",
              "      box-shadow: 0px 1px 3px 1px rgba(0, 0, 0, 0.15);\n",
              "      filter: drop-shadow(0px 1px 2px rgba(0, 0, 0, 0.3));\n",
              "      fill: #FFFFFF;\n",
              "    }\n",
              "  </style>\n",
              "\n",
              "      <script>\n",
              "        const buttonEl =\n",
              "          document.querySelector('#df-d689e9af-5aed-4280-928e-45847f4de087 button.colab-df-convert');\n",
              "        buttonEl.style.display =\n",
              "          google.colab.kernel.accessAllowed ? 'block' : 'none';\n",
              "\n",
              "        async function convertToInteractive(key) {\n",
              "          const element = document.querySelector('#df-d689e9af-5aed-4280-928e-45847f4de087');\n",
              "          const dataTable =\n",
              "            await google.colab.kernel.invokeFunction('convertToInteractive',\n",
              "                                                     [key], {});\n",
              "          if (!dataTable) return;\n",
              "\n",
              "          const docLinkHtml = 'Like what you see? Visit the ' +\n",
              "            '<a target=\"_blank\" href=https://colab.research.google.com/notebooks/data_table.ipynb>data table notebook</a>'\n",
              "            + ' to learn more about interactive tables.';\n",
              "          element.innerHTML = '';\n",
              "          dataTable['output_type'] = 'display_data';\n",
              "          await google.colab.output.renderOutput(dataTable, element);\n",
              "          const docLink = document.createElement('div');\n",
              "          docLink.innerHTML = docLinkHtml;\n",
              "          element.appendChild(docLink);\n",
              "        }\n",
              "      </script>\n",
              "    </div>\n",
              "  </div>\n",
              "  "
            ]
          },
          "metadata": {},
          "execution_count": 18
        }
      ]
    },
    {
      "cell_type": "markdown",
      "source": [
        "## 3.3 Split data\n"
      ],
      "metadata": {
        "id": "68UBR4HtYDlX"
      }
    },
    {
      "cell_type": "code",
      "source": [
        "# split training data into train and validation\n",
        "bow_train, bow_val, y_train, y_val = train_test_split(vectorizer1, df_train['rating'], test_size=0.2, random_state=12)\n",
        "\n",
        "tfidf_train, tfidf_val, y_train, y_val = train_test_split(vectorizer2, df_train['rating'], test_size=0.2, random_state=12)"
      ],
      "metadata": {
        "id": "PYVFJfL88nyx"
      },
      "execution_count": null,
      "outputs": []
    },
    {
      "cell_type": "code",
      "source": [
        "# check the shape\n",
        "print(tfidf_train.shape)\n",
        "print(tfidf_val.shape)\n",
        "print(y_train.shape)\n",
        "print(y_val.shape)"
      ],
      "metadata": {
        "colab": {
          "base_uri": "https://localhost:8080/"
        },
        "id": "6NtYyfAl--5W",
        "outputId": "99174d51-188b-41c9-96f3-2b64daa399f6"
      },
      "execution_count": null,
      "outputs": [
        {
          "output_type": "stream",
          "name": "stdout",
          "text": [
            "(5760, 49583)\n",
            "(1440, 49583)\n",
            "(5760,)\n",
            "(1440,)\n"
          ]
        }
      ]
    },
    {
      "cell_type": "markdown",
      "source": [
        "# Part 4 Random Forest"
      ],
      "metadata": {
        "id": "sEKT5Ut2r10n"
      }
    },
    {
      "cell_type": "markdown",
      "source": [
        "## 4.1 Classification"
      ],
      "metadata": {
        "id": "7EufpbCQr9-v"
      }
    },
    {
      "cell_type": "markdown",
      "source": [
        "### 4.1.1 with BOW"
      ],
      "metadata": {
        "id": "MjiNbvw6sdqQ"
      }
    },
    {
      "cell_type": "code",
      "source": [
        "# set parameters\n",
        "param = {'n_estimators': [80,100,120],\n",
        "      'max_features':[200,250,300],\n",
        "      'max_depth':[20,60,100]},\n",
        "\n",
        "# use the grid of parameters on training data for Random Forest\n",
        "grid = GridSearchCV(RandomForestClassifier(random_state=10),\n",
        "                    param,cv=6,return_train_score=True)\n",
        "grid.fit(bow_train,y_train)"
      ],
      "metadata": {
        "id": "C9Fb4WT7szHa",
        "colab": {
          "base_uri": "https://localhost:8080/"
        },
        "outputId": "c41fc012-9e7e-418c-9ca1-1e033371ecb8"
      },
      "execution_count": null,
      "outputs": [
        {
          "output_type": "execute_result",
          "data": {
            "text/plain": [
              "GridSearchCV(cv=6, estimator=RandomForestClassifier(random_state=10),\n",
              "             param_grid=({'max_depth': [20, 60, 100],\n",
              "                          'max_features': [200, 250, 300],\n",
              "                          'n_estimators': [80, 100, 120]},),\n",
              "             return_train_score=True)"
            ]
          },
          "metadata": {},
          "execution_count": 21
        }
      ]
    },
    {
      "cell_type": "code",
      "source": [
        "# get the best parameters\n",
        "grid.best_params_"
      ],
      "metadata": {
        "id": "dYobYgS02bUG",
        "colab": {
          "base_uri": "https://localhost:8080/"
        },
        "outputId": "f5e23f6a-1413-4664-de1a-efa407097929"
      },
      "execution_count": null,
      "outputs": [
        {
          "output_type": "execute_result",
          "data": {
            "text/plain": [
              "{'max_depth': 100, 'max_features': 200, 'n_estimators': 120}"
            ]
          },
          "metadata": {},
          "execution_count": 22
        }
      ]
    },
    {
      "cell_type": "code",
      "source": [
        "# do Random Forest with the best parameters\n",
        "rdf_class = RandomForestClassifier(n_estimators=120, max_features=200,max_depth=100,random_state=10)\n",
        "rdf_class.fit(bow_train,y_train)\n",
        "y_pred_rdfclass = rdf_class.predict(bow_val)"
      ],
      "metadata": {
        "id": "gCepw9Qp2pbE"
      },
      "execution_count": null,
      "outputs": []
    },
    {
      "cell_type": "code",
      "source": [
        "print(classification_report(y_val,y_pred_rdfclass))"
      ],
      "metadata": {
        "id": "FFfQnfZQ4VVR",
        "colab": {
          "base_uri": "https://localhost:8080/"
        },
        "outputId": "eeef5b2a-59aa-49be-a25c-fc881b95913e"
      },
      "execution_count": null,
      "outputs": [
        {
          "output_type": "stream",
          "name": "stdout",
          "text": [
            "              precision    recall  f1-score   support\n",
            "\n",
            "           0       0.56      0.63      0.60       301\n",
            "           1       0.46      0.17      0.25       250\n",
            "           2       0.73      0.07      0.12       161\n",
            "           3       0.44      0.62      0.51       393\n",
            "           4       0.49      0.65      0.56       335\n",
            "\n",
            "    accuracy                           0.49      1440\n",
            "   macro avg       0.54      0.43      0.41      1440\n",
            "weighted avg       0.51      0.49      0.45      1440\n",
            "\n"
          ]
        }
      ]
    },
    {
      "cell_type": "code",
      "source": [
        "# Macro F1-score for Classification (BOW)\n",
        "f1_rf_class1 = f1_score(y_val, y_pred_rdfclass, average ='macro')\n",
        "f1_rf_class1"
      ],
      "metadata": {
        "id": "TfdUn0Rn4qDM",
        "colab": {
          "base_uri": "https://localhost:8080/"
        },
        "outputId": "d2987cfc-4d5b-435d-a065-9f748cb74a2f"
      },
      "execution_count": null,
      "outputs": [
        {
          "output_type": "execute_result",
          "data": {
            "text/plain": [
              "0.408482408236309"
            ]
          },
          "metadata": {},
          "execution_count": 25
        }
      ]
    },
    {
      "cell_type": "markdown",
      "source": [
        "### 4.1.2 with TF-IDF"
      ],
      "metadata": {
        "id": "kp-5UzqxslaE"
      }
    },
    {
      "cell_type": "code",
      "source": [
        "# set parameters\n",
        "param = {'n_estimators': [80,100,120],\n",
        "      'max_features':[200,250,300],\n",
        "      'max_depth':[20,60,100]},\n",
        "\n",
        "# use the grid of parameters on training data for Random Forest\n",
        "grid = GridSearchCV(RandomForestClassifier(random_state=10),\n",
        "                    param,cv=6,return_train_score=True)\n",
        "grid.fit(tfidf_train,y_train)"
      ],
      "metadata": {
        "id": "hh7VKCT6sJTi",
        "colab": {
          "base_uri": "https://localhost:8080/"
        },
        "outputId": "a7c8e8cb-bde5-458b-bf24-6eb7651b2fcf"
      },
      "execution_count": null,
      "outputs": [
        {
          "output_type": "execute_result",
          "data": {
            "text/plain": [
              "GridSearchCV(cv=6, estimator=RandomForestClassifier(random_state=10),\n",
              "             param_grid=({'max_depth': [20, 60, 100],\n",
              "                          'max_features': [200, 250, 300],\n",
              "                          'n_estimators': [80, 100, 120]},),\n",
              "             return_train_score=True)"
            ]
          },
          "metadata": {},
          "execution_count": 26
        }
      ]
    },
    {
      "cell_type": "code",
      "source": [
        "# get the best parameters\n",
        "grid.best_params_"
      ],
      "metadata": {
        "id": "jOWDzNCQD7J-",
        "colab": {
          "base_uri": "https://localhost:8080/"
        },
        "outputId": "07cc80e3-164c-454a-df00-731099113795"
      },
      "execution_count": null,
      "outputs": [
        {
          "output_type": "execute_result",
          "data": {
            "text/plain": [
              "{'max_depth': 100, 'max_features': 250, 'n_estimators': 120}"
            ]
          },
          "metadata": {},
          "execution_count": 27
        }
      ]
    },
    {
      "cell_type": "code",
      "source": [
        "# do Random Forest with the best parameters\n",
        "rdf_class = RandomForestClassifier(n_estimators=120, max_features=250, max_depth=100, random_state=10)\n",
        "rdf_class.fit(tfidf_train,y_train)\n",
        "y_pred_rdfclass2 = rdf_class.predict(tfidf_val)"
      ],
      "metadata": {
        "id": "mog26HEVD9qj"
      },
      "execution_count": null,
      "outputs": []
    },
    {
      "cell_type": "code",
      "source": [
        "print(classification_report(y_val,y_pred_rdfclass2))"
      ],
      "metadata": {
        "id": "KRNcmrDTEOL1",
        "colab": {
          "base_uri": "https://localhost:8080/"
        },
        "outputId": "d061fe9e-4f3f-4436-a06b-38db34b16390"
      },
      "execution_count": null,
      "outputs": [
        {
          "output_type": "stream",
          "name": "stdout",
          "text": [
            "              precision    recall  f1-score   support\n",
            "\n",
            "           0       0.56      0.60      0.58       301\n",
            "           1       0.43      0.16      0.23       250\n",
            "           2       0.60      0.07      0.13       161\n",
            "           3       0.44      0.65      0.52       393\n",
            "           4       0.52      0.64      0.58       335\n",
            "\n",
            "    accuracy                           0.49      1440\n",
            "   macro avg       0.51      0.43      0.41      1440\n",
            "weighted avg       0.50      0.49      0.45      1440\n",
            "\n"
          ]
        }
      ]
    },
    {
      "cell_type": "code",
      "source": [
        "# Macro F1-score for Classification (TF-IDF)\n",
        "f1_rf_class2 = f1_score(y_val, y_pred_rdfclass2, average ='macro')\n",
        "f1_rf_class2"
      ],
      "metadata": {
        "id": "_m-x4ZSLEVTS",
        "colab": {
          "base_uri": "https://localhost:8080/"
        },
        "outputId": "b42d3acb-1538-4926-ba4c-ace8916a9ce1"
      },
      "execution_count": null,
      "outputs": [
        {
          "output_type": "execute_result",
          "data": {
            "text/plain": [
              "0.4091041988178379"
            ]
          },
          "metadata": {},
          "execution_count": 30
        }
      ]
    },
    {
      "cell_type": "code",
      "source": [
        "print('The F1-score for Random Forest (Classification) with BOW is',round(f1_rf_class1,4))\n",
        "print('The F1-score for Random Forest (Classification) with TF-IDF is',round(f1_rf_class2,4))"
      ],
      "metadata": {
        "id": "nvIp3PR-H6a4",
        "colab": {
          "base_uri": "https://localhost:8080/"
        },
        "outputId": "b8169f6e-3c13-492a-9a7d-0c2e49f221f1"
      },
      "execution_count": null,
      "outputs": [
        {
          "output_type": "stream",
          "name": "stdout",
          "text": [
            "The F1-score for Random Forest (Classification) with BOW is 0.4085\n",
            "The F1-score for Random Forest (Classification) with TF-IDF is 0.4091\n"
          ]
        }
      ]
    },
    {
      "cell_type": "markdown",
      "source": [
        "## 4.2 Regression"
      ],
      "metadata": {
        "id": "6GtyEMpGsFtD"
      }
    },
    {
      "cell_type": "markdown",
      "source": [
        "### 4.2.1 with BOW"
      ],
      "metadata": {
        "id": "S1WHpBQzEcQE"
      }
    },
    {
      "cell_type": "code",
      "source": [
        "# set parameters\n",
        "param = {'n_estimators': [80,100,120],\n",
        "      'max_features':[200,250,300],\n",
        "      'max_depth':[20,60,100]},\n",
        "\n",
        "# use the grid of parameters on training data for Random Forest\n",
        "grid = GridSearchCV(RandomForestRegressor(random_state=10),\n",
        "                    param,cv=6,return_train_score=True)\n",
        "grid.fit(bow_train,y_train)"
      ],
      "metadata": {
        "id": "ccDwRcPZEhS5",
        "colab": {
          "base_uri": "https://localhost:8080/"
        },
        "outputId": "18829c53-ae9d-49dc-e8b9-acc6b30e3021"
      },
      "execution_count": null,
      "outputs": [
        {
          "output_type": "execute_result",
          "data": {
            "text/plain": [
              "GridSearchCV(cv=6, estimator=RandomForestRegressor(random_state=10),\n",
              "             param_grid=({'max_depth': [20, 60, 100],\n",
              "                          'max_features': [200, 250, 300],\n",
              "                          'n_estimators': [80, 100, 120]},),\n",
              "             return_train_score=True)"
            ]
          },
          "metadata": {},
          "execution_count": 32
        }
      ]
    },
    {
      "cell_type": "code",
      "source": [
        "# get the best parameters\n",
        "grid.best_params_"
      ],
      "metadata": {
        "id": "lOfwW8djGjHM",
        "colab": {
          "base_uri": "https://localhost:8080/"
        },
        "outputId": "3e52c062-94f7-43a8-9f6b-8bf7ba447cdc"
      },
      "execution_count": null,
      "outputs": [
        {
          "output_type": "execute_result",
          "data": {
            "text/plain": [
              "{'max_depth': 100, 'max_features': 300, 'n_estimators': 120}"
            ]
          },
          "metadata": {},
          "execution_count": 33
        }
      ]
    },
    {
      "cell_type": "code",
      "source": [
        "# do Random Forest with the best parameters\n",
        "rdf_reg = RandomForestRegressor(n_estimators=120, max_features=300,max_depth=100, random_state=10)\n",
        "rdf_reg.fit(bow_train,y_train)\n",
        "y_pred_rdfreg = rdf_reg.predict(bow_val)"
      ],
      "metadata": {
        "id": "teypojrDGsYU"
      },
      "execution_count": null,
      "outputs": []
    },
    {
      "cell_type": "code",
      "source": [
        "#check the class of y_pre_rdfreg\n",
        "np.unique(np.round(y_pred_rdfreg))"
      ],
      "metadata": {
        "id": "oncET_yEINtS",
        "colab": {
          "base_uri": "https://localhost:8080/"
        },
        "outputId": "9c485838-b116-4ea2-8c56-75d933b05b6d"
      },
      "execution_count": null,
      "outputs": [
        {
          "output_type": "execute_result",
          "data": {
            "text/plain": [
              "array([0., 1., 2., 3., 4.])"
            ]
          },
          "metadata": {},
          "execution_count": 35
        }
      ]
    },
    {
      "cell_type": "code",
      "source": [
        "y_pred_rdfreg = np.round(y_pred_rdfreg)"
      ],
      "metadata": {
        "id": "1VDg7VpCIgZi"
      },
      "execution_count": null,
      "outputs": []
    },
    {
      "cell_type": "code",
      "source": [
        "print(classification_report(y_val,y_pred_rdfreg))"
      ],
      "metadata": {
        "id": "CQU6Dm_nGxxE",
        "colab": {
          "base_uri": "https://localhost:8080/"
        },
        "outputId": "bf85de73-74ec-4a7f-9796-04ff4dbd9b43"
      },
      "execution_count": null,
      "outputs": [
        {
          "output_type": "stream",
          "name": "stdout",
          "text": [
            "              precision    recall  f1-score   support\n",
            "\n",
            "           0       1.00      0.00      0.01       301\n",
            "           1       0.30      0.25      0.27       250\n",
            "           2       0.17      0.73      0.27       161\n",
            "           3       0.41      0.54      0.47       393\n",
            "           4       0.64      0.02      0.04       335\n",
            "\n",
            "    accuracy                           0.28      1440\n",
            "   macro avg       0.50      0.31      0.21      1440\n",
            "weighted avg       0.54      0.28      0.22      1440\n",
            "\n"
          ]
        }
      ]
    },
    {
      "cell_type": "code",
      "source": [
        "# Macro F1-score for Regression (BOW)\n",
        "f1_rf_reg1 = f1_score(y_val, y_pred_rdfreg, average ='macro')\n",
        "f1_rf_reg1"
      ],
      "metadata": {
        "id": "zX2EEoZJG3B9",
        "colab": {
          "base_uri": "https://localhost:8080/"
        },
        "outputId": "13077054-bd2f-461f-c1fd-d7c824e732ce"
      },
      "execution_count": null,
      "outputs": [
        {
          "output_type": "execute_result",
          "data": {
            "text/plain": [
              "0.21194375908279023"
            ]
          },
          "metadata": {},
          "execution_count": 38
        }
      ]
    },
    {
      "cell_type": "markdown",
      "source": [
        "### 4.2.2 with TF-IDF"
      ],
      "metadata": {
        "id": "HXtfKf5UEfBB"
      }
    },
    {
      "cell_type": "code",
      "source": [
        "# set parameters\n",
        "param = {'n_estimators': [80,100,120],\n",
        "      'max_features':[200,250,300],\n",
        "      'max_depth':[20,60,100]},\n",
        "\n",
        "# use the grid of parameters on training data for Random Forest\n",
        "grid = GridSearchCV(RandomForestRegressor(random_state=10),\n",
        "                    param,cv=6,return_train_score=True)\n",
        "grid.fit(tfidf_train,y_train)"
      ],
      "metadata": {
        "id": "H_z1-qbpHDdv",
        "colab": {
          "base_uri": "https://localhost:8080/"
        },
        "outputId": "d8622f27-1c5b-49d4-e1b1-4ce654701cb5"
      },
      "execution_count": null,
      "outputs": [
        {
          "output_type": "execute_result",
          "data": {
            "text/plain": [
              "GridSearchCV(cv=6, estimator=RandomForestRegressor(random_state=10),\n",
              "             param_grid=({'max_depth': [20, 60, 100],\n",
              "                          'max_features': [200, 250, 300],\n",
              "                          'n_estimators': [80, 100, 120]},),\n",
              "             return_train_score=True)"
            ]
          },
          "metadata": {},
          "execution_count": 39
        }
      ]
    },
    {
      "cell_type": "code",
      "source": [
        "# get the best parameters\n",
        "grid.best_params_"
      ],
      "metadata": {
        "id": "sq7Fhuj1HI4P",
        "colab": {
          "base_uri": "https://localhost:8080/"
        },
        "outputId": "c4579060-b334-4904-c509-c9ee536e5695"
      },
      "execution_count": null,
      "outputs": [
        {
          "output_type": "execute_result",
          "data": {
            "text/plain": [
              "{'max_depth': 100, 'max_features': 300, 'n_estimators': 120}"
            ]
          },
          "metadata": {},
          "execution_count": 40
        }
      ]
    },
    {
      "cell_type": "code",
      "source": [
        "# do Random Forest with the best parameters\n",
        "rdf_reg = RandomForestRegressor(n_estimators=120, max_features=300, max_depth=100, random_state=10)\n",
        "rdf_reg.fit(tfidf_train,y_train)\n",
        "y_pred_rdfreg2 = rdf_reg.predict(tfidf_val)"
      ],
      "metadata": {
        "id": "W_qE6ZPrHMHu"
      },
      "execution_count": null,
      "outputs": []
    },
    {
      "cell_type": "code",
      "source": [
        "#check the class of y_pre_rdfreg2\n",
        "np.unique(np.round(y_pred_rdfreg2))"
      ],
      "metadata": {
        "id": "VrWH0AWTJ_FS",
        "colab": {
          "base_uri": "https://localhost:8080/"
        },
        "outputId": "545242db-f11c-42e6-d70b-eec231dcea44"
      },
      "execution_count": null,
      "outputs": [
        {
          "output_type": "execute_result",
          "data": {
            "text/plain": [
              "array([1., 2., 3., 4.])"
            ]
          },
          "metadata": {},
          "execution_count": 42
        }
      ]
    },
    {
      "cell_type": "code",
      "source": [
        "y_pred_rdfreg2 = np.round(y_pred_rdfreg2)"
      ],
      "metadata": {
        "id": "NXcnrA5jKFdw"
      },
      "execution_count": null,
      "outputs": []
    },
    {
      "cell_type": "code",
      "source": [
        "print(classification_report(y_val,y_pred_rdfreg2))"
      ],
      "metadata": {
        "id": "jo1tJXCyHVpy",
        "colab": {
          "base_uri": "https://localhost:8080/"
        },
        "outputId": "da2027dc-8a4f-4c2d-f444-c9e50297acb2"
      },
      "execution_count": null,
      "outputs": [
        {
          "output_type": "stream",
          "name": "stdout",
          "text": [
            "              precision    recall  f1-score   support\n",
            "\n",
            "           0       0.00      0.00      0.00       301\n",
            "           1       0.29      0.22      0.25       250\n",
            "           2       0.16      0.68      0.26       161\n",
            "           3       0.42      0.59      0.49       393\n",
            "           4       0.75      0.02      0.03       335\n",
            "\n",
            "    accuracy                           0.28      1440\n",
            "   macro avg       0.32      0.30      0.21      1440\n",
            "weighted avg       0.36      0.28      0.21      1440\n",
            "\n"
          ]
        }
      ]
    },
    {
      "cell_type": "code",
      "source": [
        "# Macro F1-score for Classification (TF-IDF)\n",
        "f1_rf_reg2 = f1_score(y_val, y_pred_rdfreg2, average ='macro')\n",
        "f1_rf_reg2"
      ],
      "metadata": {
        "id": "p98hZgB3HYos",
        "colab": {
          "base_uri": "https://localhost:8080/"
        },
        "outputId": "433aaf3f-fa9e-4587-b16d-cc31f267503e"
      },
      "execution_count": null,
      "outputs": [
        {
          "output_type": "execute_result",
          "data": {
            "text/plain": [
              "0.20677710740049138"
            ]
          },
          "metadata": {},
          "execution_count": 45
        }
      ]
    },
    {
      "cell_type": "code",
      "source": [
        "print('The F1-score for Random Forest (Regression) with BOW is',round(f1_rf_reg1,4))\n",
        "print('The F1-score for Random Forest (Regression) with TF-IDF is',round(f1_rf_reg2,4))"
      ],
      "metadata": {
        "id": "3BuQ2u3dHg1v",
        "colab": {
          "base_uri": "https://localhost:8080/"
        },
        "outputId": "3eee7ba5-e81e-4ce6-ad00-d8c05324157e"
      },
      "execution_count": null,
      "outputs": [
        {
          "output_type": "stream",
          "name": "stdout",
          "text": [
            "The F1-score for Random Forest (Regression) with BOW is 0.2119\n",
            "The F1-score for Random Forest (Regression) with TF-IDF is 0.2068\n"
          ]
        }
      ]
    },
    {
      "cell_type": "markdown",
      "source": [
        "Therefore, the highest F1-score for Random Forest is Random Forest (Classification) with TF-IDF."
      ],
      "metadata": {
        "id": "gRs1J1i0kfPo"
      }
    },
    {
      "cell_type": "markdown",
      "source": [
        "## 4.3 Test for the chosen type of RF"
      ],
      "metadata": {
        "id": "OidWXPC0rLJ2"
      }
    },
    {
      "cell_type": "code",
      "source": [
        "# combine train and validation data\n",
        "tfidf_train = tfidf_train.toarray()\n",
        "tfidf_val = tfidf_val.toarray()\n",
        "\n",
        "y_train = pd.DataFrame(y_train)  # series to dataframe\n",
        "y_train = y_train.values     # dataframe to array\n",
        "y_val = pd.DataFrame(y_val)   \n",
        "y_val = y_val.values      \n",
        "\n",
        "\n",
        "tfidf_combine = np.append(tfidf_train,tfidf_val,axis=0)\n",
        "y_combine = np.append(y_train,y_val,axis=0)"
      ],
      "metadata": {
        "id": "xyzZXGR8CoEN"
      },
      "execution_count": null,
      "outputs": []
    },
    {
      "cell_type": "code",
      "source": [
        "# test for the chosen Random Forest (Classification) with TF-IDF\n",
        "tfidf_test = tfidf_vectorizer.transform(df_test['text_cleaned_v'])\n",
        "\n",
        "rdf_class = RandomForestClassifier(n_estimators=120, max_features=250, max_depth=100,random_state=10)\n",
        "rdf_class.fit(tfidf_combine,y_combine)\n",
        "y_pred_rdfclass3 = rdf_class.predict(tfidf_test)"
      ],
      "metadata": {
        "id": "uuOx21g1Cofe"
      },
      "execution_count": null,
      "outputs": []
    },
    {
      "cell_type": "code",
      "source": [
        "# Macro F1-score for testing data in RF (Classification) with TF-IDF\n",
        "f1_rf_class33 = f1_score(df_test['rating'], y_pred_rdfclass3, average ='macro')\n",
        "f1_rf_class33.round(4)"
      ],
      "metadata": {
        "id": "fok6qD7_Crhu",
        "colab": {
          "base_uri": "https://localhost:8080/"
        },
        "outputId": "efba66dc-a0e0-4fd9-e8c7-4b5ca925b2a8"
      },
      "execution_count": null,
      "outputs": [
        {
          "output_type": "execute_result",
          "data": {
            "text/plain": [
              "0.4014"
            ]
          },
          "metadata": {},
          "execution_count": 21
        }
      ]
    }
  ]
}